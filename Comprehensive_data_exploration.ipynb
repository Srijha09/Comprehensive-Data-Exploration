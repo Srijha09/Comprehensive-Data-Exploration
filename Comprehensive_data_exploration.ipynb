{
  "nbformat": 4,
  "nbformat_minor": 0,
  "metadata": {
    "colab": {
      "provenance": []
    },
    "kernelspec": {
      "name": "python3",
      "display_name": "Python 3"
    },
    "language_info": {
      "name": "python"
    }
  },
  "cells": [
    {
      "cell_type": "code",
      "source": [
        "from google.colab import drive\n",
        "drive.mount('/content/drive')"
      ],
      "metadata": {
        "colab": {
          "base_uri": "https://localhost:8080/"
        },
        "id": "8kGFDdBBTF-R",
        "outputId": "8241cb5e-6ce6-4483-dc77-64ddbf8ff0aa"
      },
      "execution_count": null,
      "outputs": [
        {
          "output_type": "stream",
          "name": "stdout",
          "text": [
            "Drive already mounted at /content/drive; to attempt to forcibly remount, call drive.mount(\"/content/drive\", force_remount=True).\n"
          ]
        }
      ]
    },
    {
      "cell_type": "code",
      "execution_count": null,
      "metadata": {
        "id": "IZP7bcoERhtJ"
      },
      "outputs": [],
      "source": [
        "import pandas as pd\n",
        "import numpy as np\n",
        "import matplotlib.pyplot as plt\n",
        "import seaborn as sns\n",
        "from scipy import stats\n",
        "from sklearn.preprocessing import StandardScaler\n",
        "import warnings\n",
        "from sklearn.model_selection import cross_val_score, train_test_split\n",
        "from sklearn.preprocessing import StandardScaler\n",
        "from sklearn.linear_model import LinearRegression, RidgeCV, LassoCV, ElasticNetCV\n",
        "from sklearn.metrics import mean_squared_error, make_scorer\n",
        "from scipy.stats import skew\n",
        "from IPython.display import display\n",
        "import matplotlib.pyplot as plt\n",
        "import seaborn as sns\n",
        "\n",
        "# Definitions\n",
        "pd.set_option('display.float_format', lambda x: '%.3f' % x)\n",
        "%matplotlib inline\n",
        "warnings.filterwarnings('ignore')\n",
        "#"
      ]
    },
    {
      "cell_type": "code",
      "source": [
        "df_train = pd.read_csv('/content/drive/My Drive/house_prices/train.csv')\n",
        "df_test = pd.read_csv('/content/drive/My Drive/house_prices/test.csv')"
      ],
      "metadata": {
        "id": "-P9TEiIAR8hr"
      },
      "execution_count": null,
      "outputs": []
    },
    {
      "cell_type": "code",
      "source": [
        "df_train.columns"
      ],
      "metadata": {
        "colab": {
          "base_uri": "https://localhost:8080/"
        },
        "id": "_wLq0638TxI8",
        "outputId": "1a5c8935-ebd3-44b1-c8ad-28b77a47c698"
      },
      "execution_count": null,
      "outputs": [
        {
          "output_type": "execute_result",
          "data": {
            "text/plain": [
              "Index(['Id', 'MSSubClass', 'MSZoning', 'LotFrontage', 'LotArea', 'Street',\n",
              "       'Alley', 'LotShape', 'LandContour', 'Utilities', 'LotConfig',\n",
              "       'LandSlope', 'Neighborhood', 'Condition1', 'Condition2', 'BldgType',\n",
              "       'HouseStyle', 'OverallQual', 'OverallCond', 'YearBuilt', 'YearRemodAdd',\n",
              "       'RoofStyle', 'RoofMatl', 'Exterior1st', 'Exterior2nd', 'MasVnrType',\n",
              "       'MasVnrArea', 'ExterQual', 'ExterCond', 'Foundation', 'BsmtQual',\n",
              "       'BsmtCond', 'BsmtExposure', 'BsmtFinType1', 'BsmtFinSF1',\n",
              "       'BsmtFinType2', 'BsmtFinSF2', 'BsmtUnfSF', 'TotalBsmtSF', 'Heating',\n",
              "       'HeatingQC', 'CentralAir', 'Electrical', '1stFlrSF', '2ndFlrSF',\n",
              "       'LowQualFinSF', 'GrLivArea', 'BsmtFullBath', 'BsmtHalfBath', 'FullBath',\n",
              "       'HalfBath', 'BedroomAbvGr', 'KitchenAbvGr', 'KitchenQual',\n",
              "       'TotRmsAbvGrd', 'Functional', 'Fireplaces', 'FireplaceQu', 'GarageType',\n",
              "       'GarageYrBlt', 'GarageFinish', 'GarageCars', 'GarageArea', 'GarageQual',\n",
              "       'GarageCond', 'PavedDrive', 'WoodDeckSF', 'OpenPorchSF',\n",
              "       'EnclosedPorch', '3SsnPorch', 'ScreenPorch', 'PoolArea', 'PoolQC',\n",
              "       'Fence', 'MiscFeature', 'MiscVal', 'MoSold', 'YrSold', 'SaleType',\n",
              "       'SaleCondition', 'SalePrice'],\n",
              "      dtype='object')"
            ]
          },
          "metadata": {},
          "execution_count": 261
        }
      ]
    },
    {
      "cell_type": "code",
      "source": [
        "#Check for nulls\n",
        "missing_values = df_train.isnull().sum()\n",
        "# Filter and display only columns with missing values\n",
        "missing_columns = missing_values[missing_values > 0]\n",
        "missing_columns"
      ],
      "metadata": {
        "colab": {
          "base_uri": "https://localhost:8080/",
          "height": 680
        },
        "id": "g50AsgK9hxFU",
        "outputId": "26cf548b-130a-4406-d77d-aa8d0c3699fd"
      },
      "execution_count": null,
      "outputs": [
        {
          "output_type": "execute_result",
          "data": {
            "text/plain": [
              "LotFrontage      259\n",
              "Alley           1369\n",
              "MasVnrType       872\n",
              "MasVnrArea         8\n",
              "BsmtQual          37\n",
              "BsmtCond          37\n",
              "BsmtExposure      38\n",
              "BsmtFinType1      37\n",
              "BsmtFinType2      38\n",
              "Electrical         1\n",
              "FireplaceQu      690\n",
              "GarageType        81\n",
              "GarageYrBlt       81\n",
              "GarageFinish      81\n",
              "GarageQual        81\n",
              "GarageCond        81\n",
              "PoolQC          1453\n",
              "Fence           1179\n",
              "MiscFeature     1406\n",
              "dtype: int64"
            ],
            "text/html": [
              "<div>\n",
              "<style scoped>\n",
              "    .dataframe tbody tr th:only-of-type {\n",
              "        vertical-align: middle;\n",
              "    }\n",
              "\n",
              "    .dataframe tbody tr th {\n",
              "        vertical-align: top;\n",
              "    }\n",
              "\n",
              "    .dataframe thead th {\n",
              "        text-align: right;\n",
              "    }\n",
              "</style>\n",
              "<table border=\"1\" class=\"dataframe\">\n",
              "  <thead>\n",
              "    <tr style=\"text-align: right;\">\n",
              "      <th></th>\n",
              "      <th>0</th>\n",
              "    </tr>\n",
              "  </thead>\n",
              "  <tbody>\n",
              "    <tr>\n",
              "      <th>LotFrontage</th>\n",
              "      <td>259</td>\n",
              "    </tr>\n",
              "    <tr>\n",
              "      <th>Alley</th>\n",
              "      <td>1369</td>\n",
              "    </tr>\n",
              "    <tr>\n",
              "      <th>MasVnrType</th>\n",
              "      <td>872</td>\n",
              "    </tr>\n",
              "    <tr>\n",
              "      <th>MasVnrArea</th>\n",
              "      <td>8</td>\n",
              "    </tr>\n",
              "    <tr>\n",
              "      <th>BsmtQual</th>\n",
              "      <td>37</td>\n",
              "    </tr>\n",
              "    <tr>\n",
              "      <th>BsmtCond</th>\n",
              "      <td>37</td>\n",
              "    </tr>\n",
              "    <tr>\n",
              "      <th>BsmtExposure</th>\n",
              "      <td>38</td>\n",
              "    </tr>\n",
              "    <tr>\n",
              "      <th>BsmtFinType1</th>\n",
              "      <td>37</td>\n",
              "    </tr>\n",
              "    <tr>\n",
              "      <th>BsmtFinType2</th>\n",
              "      <td>38</td>\n",
              "    </tr>\n",
              "    <tr>\n",
              "      <th>Electrical</th>\n",
              "      <td>1</td>\n",
              "    </tr>\n",
              "    <tr>\n",
              "      <th>FireplaceQu</th>\n",
              "      <td>690</td>\n",
              "    </tr>\n",
              "    <tr>\n",
              "      <th>GarageType</th>\n",
              "      <td>81</td>\n",
              "    </tr>\n",
              "    <tr>\n",
              "      <th>GarageYrBlt</th>\n",
              "      <td>81</td>\n",
              "    </tr>\n",
              "    <tr>\n",
              "      <th>GarageFinish</th>\n",
              "      <td>81</td>\n",
              "    </tr>\n",
              "    <tr>\n",
              "      <th>GarageQual</th>\n",
              "      <td>81</td>\n",
              "    </tr>\n",
              "    <tr>\n",
              "      <th>GarageCond</th>\n",
              "      <td>81</td>\n",
              "    </tr>\n",
              "    <tr>\n",
              "      <th>PoolQC</th>\n",
              "      <td>1453</td>\n",
              "    </tr>\n",
              "    <tr>\n",
              "      <th>Fence</th>\n",
              "      <td>1179</td>\n",
              "    </tr>\n",
              "    <tr>\n",
              "      <th>MiscFeature</th>\n",
              "      <td>1406</td>\n",
              "    </tr>\n",
              "  </tbody>\n",
              "</table>\n",
              "</div><br><label><b>dtype:</b> int64</label>"
            ]
          },
          "metadata": {},
          "execution_count": 262
        }
      ]
    },
    {
      "cell_type": "code",
      "source": [
        "df_train['MSSubClass']"
      ],
      "metadata": {
        "colab": {
          "base_uri": "https://localhost:8080/",
          "height": 458
        },
        "id": "6hcFozQMq2YR",
        "outputId": "6aaa82da-6a87-4bda-d28b-e00a49406b84"
      },
      "execution_count": null,
      "outputs": [
        {
          "output_type": "execute_result",
          "data": {
            "text/plain": [
              "0       60\n",
              "1       20\n",
              "2       60\n",
              "3       70\n",
              "4       60\n",
              "        ..\n",
              "1455    60\n",
              "1456    20\n",
              "1457    70\n",
              "1458    20\n",
              "1459    20\n",
              "Name: MSSubClass, Length: 1460, dtype: int64"
            ],
            "text/html": [
              "<div>\n",
              "<style scoped>\n",
              "    .dataframe tbody tr th:only-of-type {\n",
              "        vertical-align: middle;\n",
              "    }\n",
              "\n",
              "    .dataframe tbody tr th {\n",
              "        vertical-align: top;\n",
              "    }\n",
              "\n",
              "    .dataframe thead th {\n",
              "        text-align: right;\n",
              "    }\n",
              "</style>\n",
              "<table border=\"1\" class=\"dataframe\">\n",
              "  <thead>\n",
              "    <tr style=\"text-align: right;\">\n",
              "      <th></th>\n",
              "      <th>MSSubClass</th>\n",
              "    </tr>\n",
              "  </thead>\n",
              "  <tbody>\n",
              "    <tr>\n",
              "      <th>0</th>\n",
              "      <td>60</td>\n",
              "    </tr>\n",
              "    <tr>\n",
              "      <th>1</th>\n",
              "      <td>20</td>\n",
              "    </tr>\n",
              "    <tr>\n",
              "      <th>2</th>\n",
              "      <td>60</td>\n",
              "    </tr>\n",
              "    <tr>\n",
              "      <th>3</th>\n",
              "      <td>70</td>\n",
              "    </tr>\n",
              "    <tr>\n",
              "      <th>4</th>\n",
              "      <td>60</td>\n",
              "    </tr>\n",
              "    <tr>\n",
              "      <th>...</th>\n",
              "      <td>...</td>\n",
              "    </tr>\n",
              "    <tr>\n",
              "      <th>1455</th>\n",
              "      <td>60</td>\n",
              "    </tr>\n",
              "    <tr>\n",
              "      <th>1456</th>\n",
              "      <td>20</td>\n",
              "    </tr>\n",
              "    <tr>\n",
              "      <th>1457</th>\n",
              "      <td>70</td>\n",
              "    </tr>\n",
              "    <tr>\n",
              "      <th>1458</th>\n",
              "      <td>20</td>\n",
              "    </tr>\n",
              "    <tr>\n",
              "      <th>1459</th>\n",
              "      <td>20</td>\n",
              "    </tr>\n",
              "  </tbody>\n",
              "</table>\n",
              "<p>1460 rows × 1 columns</p>\n",
              "</div><br><label><b>dtype:</b> int64</label>"
            ]
          },
          "metadata": {},
          "execution_count": 263
        }
      ]
    },
    {
      "cell_type": "code",
      "source": [
        "df_train.duplicated().sum()"
      ],
      "metadata": {
        "colab": {
          "base_uri": "https://localhost:8080/"
        },
        "id": "wQTIHjIhi1-K",
        "outputId": "11758a7d-e0b3-409c-cf71-14afa2f5bcd6"
      },
      "execution_count": null,
      "outputs": [
        {
          "output_type": "execute_result",
          "data": {
            "text/plain": [
              "0"
            ]
          },
          "metadata": {},
          "execution_count": 264
        }
      ]
    },
    {
      "cell_type": "code",
      "source": [
        "#Check for duplicates\n",
        "idsUnique = len(set(df_train.Id))\n",
        "idsTotal = df_train.shape[0]\n",
        "idsDupli = idsTotal - idsUnique\n",
        "print(\"There are \" + str(idsDupli) + \" duplicate IDs for \" + str(idsTotal) + \" total entries\")\n",
        "\n",
        "# Drop Id column\n",
        "df_train.drop(\"Id\", axis = 1, inplace = True)"
      ],
      "metadata": {
        "colab": {
          "base_uri": "https://localhost:8080/"
        },
        "id": "BpCfAlMOiY75",
        "outputId": "d4092b4e-10d5-4d54-a7a8-3766838c4688"
      },
      "execution_count": null,
      "outputs": [
        {
          "output_type": "stream",
          "name": "stdout",
          "text": [
            "There are 0 duplicate IDs for 1460 total entries\n"
          ]
        }
      ]
    },
    {
      "cell_type": "code",
      "source": [
        "#descriptive statistics summary\n",
        "df_train['SalePrice'].describe()"
      ],
      "metadata": {
        "colab": {
          "base_uri": "https://localhost:8080/",
          "height": 335
        },
        "id": "aQgap2eiVQdX",
        "outputId": "b49a8d1d-781a-4f44-9a8c-f5c98a7913c7"
      },
      "execution_count": null,
      "outputs": [
        {
          "output_type": "execute_result",
          "data": {
            "text/plain": [
              "count     1460.000\n",
              "mean    180921.196\n",
              "std      79442.503\n",
              "min      34900.000\n",
              "25%     129975.000\n",
              "50%     163000.000\n",
              "75%     214000.000\n",
              "max     755000.000\n",
              "Name: SalePrice, dtype: float64"
            ],
            "text/html": [
              "<div>\n",
              "<style scoped>\n",
              "    .dataframe tbody tr th:only-of-type {\n",
              "        vertical-align: middle;\n",
              "    }\n",
              "\n",
              "    .dataframe tbody tr th {\n",
              "        vertical-align: top;\n",
              "    }\n",
              "\n",
              "    .dataframe thead th {\n",
              "        text-align: right;\n",
              "    }\n",
              "</style>\n",
              "<table border=\"1\" class=\"dataframe\">\n",
              "  <thead>\n",
              "    <tr style=\"text-align: right;\">\n",
              "      <th></th>\n",
              "      <th>SalePrice</th>\n",
              "    </tr>\n",
              "  </thead>\n",
              "  <tbody>\n",
              "    <tr>\n",
              "      <th>count</th>\n",
              "      <td>1460.000</td>\n",
              "    </tr>\n",
              "    <tr>\n",
              "      <th>mean</th>\n",
              "      <td>180921.196</td>\n",
              "    </tr>\n",
              "    <tr>\n",
              "      <th>std</th>\n",
              "      <td>79442.503</td>\n",
              "    </tr>\n",
              "    <tr>\n",
              "      <th>min</th>\n",
              "      <td>34900.000</td>\n",
              "    </tr>\n",
              "    <tr>\n",
              "      <th>25%</th>\n",
              "      <td>129975.000</td>\n",
              "    </tr>\n",
              "    <tr>\n",
              "      <th>50%</th>\n",
              "      <td>163000.000</td>\n",
              "    </tr>\n",
              "    <tr>\n",
              "      <th>75%</th>\n",
              "      <td>214000.000</td>\n",
              "    </tr>\n",
              "    <tr>\n",
              "      <th>max</th>\n",
              "      <td>755000.000</td>\n",
              "    </tr>\n",
              "  </tbody>\n",
              "</table>\n",
              "</div><br><label><b>dtype:</b> float64</label>"
            ]
          },
          "metadata": {},
          "execution_count": 266
        }
      ]
    },
    {
      "cell_type": "code",
      "source": [
        "sns.distplot(df_train['SalePrice'])"
      ],
      "metadata": {
        "colab": {
          "base_uri": "https://localhost:8080/",
          "height": 483
        },
        "id": "PEObDsYfXDEw",
        "outputId": "89aa25a3-c805-466c-e58e-144aea32c6e8"
      },
      "execution_count": null,
      "outputs": [
        {
          "output_type": "execute_result",
          "data": {
            "text/plain": [
              "<Axes: xlabel='SalePrice', ylabel='Density'>"
            ]
          },
          "metadata": {},
          "execution_count": 267
        },
        {
          "output_type": "display_data",
          "data": {
            "text/plain": [
              "<Figure size 640x480 with 1 Axes>"
            ],
            "image/png": "[encoded data removed]"
          },
          "metadata": {}
        }
      ]
    },
    {
      "cell_type": "code",
      "source": [
        "print(\"Skewness: %f\" % df_train['SalePrice'].skew())\n",
        "print(\"Kurtosis: %f\" % df_train['SalePrice'].kurt())"
      ],
      "metadata": {
        "colab": {
          "base_uri": "https://localhost:8080/"
        },
        "id": "v9dPoCvgXHpW",
        "outputId": "94e1b72c-dc64-4548-c584-71bdb1cf03ed"
      },
      "execution_count": null,
      "outputs": [
        {
          "output_type": "stream",
          "name": "stdout",
          "text": [
            "Skewness: 1.882876\n",
            "Kurtosis: 6.536282\n"
          ]
        }
      ]
    },
    {
      "cell_type": "markdown",
      "source": [
        "Looking for Outliers"
      ],
      "metadata": {
        "id": "Jq7GstD_jQ5t"
      }
    },
    {
      "cell_type": "code",
      "source": [
        "plt.scatter(df_train['GrLivArea'], df_train['SalePrice'], c=\"blue\", marker='s')\n",
        "plt.xlabel('GrLivArea')\n",
        "plt.ylabel('SalePrice')\n",
        "plt.show()\n"
      ],
      "metadata": {
        "colab": {
          "base_uri": "https://localhost:8080/",
          "height": 449
        },
        "id": "sDMXZNGPhNz3",
        "outputId": "bb47e4e5-3cfd-40f8-c275-1d48570bf384"
      },
      "execution_count": null,
      "outputs": [
        {
          "output_type": "display_data",
          "data": {
            "text/plain": [
              "<Figure size 640x480 with 1 Axes>"
            ],
            "image/png": "[encoded data removed]"
          },
          "metadata": {}
        }
      ]
    },
    {
      "cell_type": "code",
      "source": [
        "df_train['GrLivArea'].describe()"
      ],
      "metadata": {
        "colab": {
          "base_uri": "https://localhost:8080/",
          "height": 335
        },
        "id": "NqQwJZiojfvD",
        "outputId": "c33d6b52-2c60-4997-e345-55ef27595c78"
      },
      "execution_count": null,
      "outputs": [
        {
          "output_type": "execute_result",
          "data": {
            "text/plain": [
              "count   1460.000\n",
              "mean    1515.464\n",
              "std      525.480\n",
              "min      334.000\n",
              "25%     1129.500\n",
              "50%     1464.000\n",
              "75%     1776.750\n",
              "max     5642.000\n",
              "Name: GrLivArea, dtype: float64"
            ],
            "text/html": [
              "<div>\n",
              "<style scoped>\n",
              "    .dataframe tbody tr th:only-of-type {\n",
              "        vertical-align: middle;\n",
              "    }\n",
              "\n",
              "    .dataframe tbody tr th {\n",
              "        vertical-align: top;\n",
              "    }\n",
              "\n",
              "    .dataframe thead th {\n",
              "        text-align: right;\n",
              "    }\n",
              "</style>\n",
              "<table border=\"1\" class=\"dataframe\">\n",
              "  <thead>\n",
              "    <tr style=\"text-align: right;\">\n",
              "      <th></th>\n",
              "      <th>GrLivArea</th>\n",
              "    </tr>\n",
              "  </thead>\n",
              "  <tbody>\n",
              "    <tr>\n",
              "      <th>count</th>\n",
              "      <td>1460.000</td>\n",
              "    </tr>\n",
              "    <tr>\n",
              "      <th>mean</th>\n",
              "      <td>1515.464</td>\n",
              "    </tr>\n",
              "    <tr>\n",
              "      <th>std</th>\n",
              "      <td>525.480</td>\n",
              "    </tr>\n",
              "    <tr>\n",
              "      <th>min</th>\n",
              "      <td>334.000</td>\n",
              "    </tr>\n",
              "    <tr>\n",
              "      <th>25%</th>\n",
              "      <td>1129.500</td>\n",
              "    </tr>\n",
              "    <tr>\n",
              "      <th>50%</th>\n",
              "      <td>1464.000</td>\n",
              "    </tr>\n",
              "    <tr>\n",
              "      <th>75%</th>\n",
              "      <td>1776.750</td>\n",
              "    </tr>\n",
              "    <tr>\n",
              "      <th>max</th>\n",
              "      <td>5642.000</td>\n",
              "    </tr>\n",
              "  </tbody>\n",
              "</table>\n",
              "</div><br><label><b>dtype:</b> float64</label>"
            ]
          },
          "metadata": {},
          "execution_count": 270
        }
      ]
    },
    {
      "cell_type": "code",
      "source": [
        "# Handle missing values for features where median/mean or most common value doesn't make sense\n",
        "\n",
        "# Alley : data description says NA means \"no alley access\"\n",
        "df_train.loc[:, \"Alley\"] = df_train.loc[:, \"Alley\"].fillna(\"None\")\n",
        "# BedroomAbvGr : NA most likely means 0\n",
        "df_train.loc[:, \"BedroomAbvGr\"] = df_train.loc[:, \"BedroomAbvGr\"].fillna(0)\n",
        "# BsmtQual etc : data description says NA for basement features is \"no basement\"\n",
        "df_train.loc[:, \"BsmtQual\"] = df_train.loc[:, \"BsmtQual\"].fillna(\"No\")\n",
        "df_train.loc[:, \"BsmtCond\"] = df_train.loc[:, \"BsmtCond\"].fillna(\"No\")\n",
        "df_train.loc[:, \"BsmtExposure\"] = df_train.loc[:, \"BsmtExposure\"].fillna(\"No\")\n",
        "df_train.loc[:, \"BsmtFinType1\"] = df_train.loc[:, \"BsmtFinType1\"].fillna(\"No\")\n",
        "df_train.loc[:, \"BsmtFinType2\"] = df_train.loc[:, \"BsmtFinType2\"].fillna(\"No\")\n",
        "df_train.loc[:, \"BsmtFullBath\"] = df_train.loc[:, \"BsmtFullBath\"].fillna(0)\n",
        "df_train.loc[:, \"BsmtHalfBath\"] = df_train.loc[:, \"BsmtHalfBath\"].fillna(0)\n",
        "df_train.loc[:, \"BsmtUnfSF\"] = df_train.loc[:, \"BsmtUnfSF\"].fillna(0)\n",
        "# CentralAir : NA most likely means No\n",
        "df_train.loc[:, \"CentralAir\"] = df_train.loc[:, \"CentralAir\"].fillna(\"N\")\n",
        "# Condition : NA most likely means Normal\n",
        "df_train.loc[:, \"Condition1\"] = df_train.loc[:, \"Condition1\"].fillna(\"Norm\")\n",
        "df_train.loc[:, \"Condition2\"] = df_train.loc[:, \"Condition2\"].fillna(\"Norm\")\n",
        "# EnclosedPorch : NA most likely means no enclosed porch\n",
        "df_train.loc[:, \"EnclosedPorch\"] = df_train.loc[:, \"EnclosedPorch\"].fillna(0)\n",
        "# External stuff : NA most likely means average\n",
        "df_train.loc[:, \"ExterCond\"] = df_train.loc[:, \"ExterCond\"].fillna(\"TA\")\n",
        "df_train.loc[:, \"ExterQual\"] = df_train.loc[:, \"ExterQual\"].fillna(\"TA\")\n",
        "# Fence : data description says NA means \"no fence\"\n",
        "df_train.loc[:, \"Fence\"] = df_train.loc[:, \"Fence\"].fillna(\"No\")\n",
        "# FireplaceQu : data description says NA means \"no fireplace\"\n",
        "df_train.loc[:, \"FireplaceQu\"] = df_train.loc[:, \"FireplaceQu\"].fillna(\"No\")\n",
        "df_train.loc[:, \"Fireplaces\"] = df_train.loc[:, \"Fireplaces\"].fillna(0)\n",
        "# Functional : data description says NA means typical\n",
        "df_train.loc[:, \"Functional\"] = df_train.loc[:, \"Functional\"].fillna(\"Typ\")\n",
        "# GarageType etc : data description says NA for garage features is \"no garage\"\n",
        "df_train.loc[:, \"GarageType\"] = df_train.loc[:, \"GarageType\"].fillna(\"No\")\n",
        "df_train.loc[:, \"GarageFinish\"] = df_train.loc[:, \"GarageFinish\"].fillna(\"No\")\n",
        "df_train.loc[:, \"GarageQual\"] = df_train.loc[:, \"GarageQual\"].fillna(\"No\")\n",
        "df_train.loc[:, \"GarageCond\"] = df_train.loc[:, \"GarageCond\"].fillna(\"No\")\n",
        "df_train.loc[:, \"GarageArea\"] = df_train.loc[:, \"GarageArea\"].fillna(0)\n",
        "df_train.loc[:, \"GarageCars\"] = df_train.loc[:, \"GarageCars\"].fillna(0)\n",
        "# HalfBath : NA most likely means no half baths above grade\n",
        "df_train.loc[:, \"HalfBath\"] = df_train.loc[:, \"HalfBath\"].fillna(0)\n",
        "# HeatingQC : NA most likely means typical\n",
        "df_train.loc[:, \"HeatingQC\"] = df_train.loc[:, \"HeatingQC\"].fillna(\"TA\")\n",
        "# KitchenAbvGr : NA most likely means 0\n",
        "df_train.loc[:, \"KitchenAbvGr\"] = df_train.loc[:, \"KitchenAbvGr\"].fillna(0)\n",
        "# KitchenQual : NA most likely means typical\n",
        "df_train.loc[:, \"KitchenQual\"] = df_train.loc[:, \"KitchenQual\"].fillna(\"TA\")\n",
        "# LotFrontage : NA most likely means no lot frontage\n",
        "df_train.loc[:, \"LotFrontage\"] = df_train.loc[:, \"LotFrontage\"].fillna(0)\n",
        "# LotShape : NA most likely means regular\n",
        "df_train.loc[:, \"LotShape\"] = df_train.loc[:, \"LotShape\"].fillna(\"Reg\")\n",
        "# MasVnrType : NA most likely means no veneer\n",
        "df_train.loc[:, \"MasVnrType\"] = df_train.loc[:, \"MasVnrType\"].fillna(\"None\")\n",
        "df_train.loc[:, \"MasVnrArea\"] = df_train.loc[:, \"MasVnrArea\"].fillna(0)\n",
        "# MiscFeature : data description says NA means \"no misc feature\"\n",
        "df_train.loc[:, \"MiscFeature\"] = df_train.loc[:, \"MiscFeature\"].fillna(\"No\")\n",
        "df_train.loc[:, \"MiscVal\"] = df_train.loc[:, \"MiscVal\"].fillna(0)\n",
        "# OpenPorchSF : NA most likely means no open porch\n",
        "df_train.loc[:, \"OpenPorchSF\"] = df_train.loc[:, \"OpenPorchSF\"].fillna(0)\n",
        "# PavedDrive : NA most likely means not paved\n",
        "df_train.loc[:, \"PavedDrive\"] = df_train.loc[:, \"PavedDrive\"].fillna(\"N\")\n",
        "# PoolQC : data description says NA means \"no pool\"\n",
        "df_train.loc[:, \"PoolQC\"] = df_train.loc[:, \"PoolQC\"].fillna(\"No\")\n",
        "df_train.loc[:, \"PoolArea\"] = df_train.loc[:, \"PoolArea\"].fillna(0)\n",
        "# SaleCondition : NA most likely means normal sale\n",
        "df_train.loc[:, \"SaleCondition\"] = df_train.loc[:, \"SaleCondition\"].fillna(\"Normal\")\n",
        "# ScreenPorch : NA most likely means no screen porch\n",
        "df_train.loc[:, \"ScreenPorch\"] = df_train.loc[:, \"ScreenPorch\"].fillna(0)\n",
        "# TotRmsAbvGrd : NA most likely means 0\n",
        "df_train.loc[:, \"TotRmsAbvGrd\"] = df_train.loc[:, \"TotRmsAbvGrd\"].fillna(0)\n",
        "# Utilities : NA most likely means all public utilities\n",
        "df_train.loc[:, \"Utilities\"] = df_train.loc[:, \"Utilities\"].fillna(\"AllPub\")\n",
        "# WoodDeckSF : NA most likely means no wood deck\n",
        "df_train.loc[:, \"WoodDeckSF\"] = df_train.loc[:, \"WoodDeckSF\"].fillna(0)"
      ],
      "metadata": {
        "id": "2LdPUeCNjq6X"
      },
      "execution_count": null,
      "outputs": []
    },
    {
      "cell_type": "code",
      "source": [
        "# Some numerical features are actually really categories\n",
        "# df_train = df_train.replace({\"MSSubClass\" : {20 : \"SC20\", 30 : \"SC30\", 40 : \"SC40\", 45 : \"SC45\",\n",
        "#                                        50 : \"SC50\", 60 : \"SC60\", 70 : \"SC70\", 75 : \"SC75\",\n",
        "#                                        80 : \"SC80\", 85 : \"SC85\", 90 : \"SC90\", 120 : \"SC120\",\n",
        "#                                        150 : \"SC150\", 160 : \"SC160\", 180 : \"SC180\", 190 : \"SC190\"},\n",
        "#                        \"MoSold\" : {1 : \"Jan\", 2 : \"Feb\", 3 : \"Mar\", 4 : \"Apr\", 5 : \"May\", 6 : \"Jun\",\n",
        "#                                    7 : \"Jul\", 8 : \"Aug\", 9 : \"Sep\", 10 : \"Oct\", 11 : \"Nov\", 12 : \"Dec\"}\n",
        "#                       })"
      ],
      "metadata": {
        "id": "DucgWARNlNVe"
      },
      "execution_count": null,
      "outputs": []
    },
    {
      "cell_type": "code",
      "source": [
        "df_train['MSSubClass']"
      ],
      "metadata": {
        "colab": {
          "base_uri": "https://localhost:8080/",
          "height": 458
        },
        "id": "xTaHeRGAqpkM",
        "outputId": "49cf77f9-a086-4a66-a0cb-b76d95b09707"
      },
      "execution_count": null,
      "outputs": [
        {
          "output_type": "execute_result",
          "data": {
            "text/plain": [
              "0       60\n",
              "1       20\n",
              "2       60\n",
              "3       70\n",
              "4       60\n",
              "        ..\n",
              "1455    60\n",
              "1456    20\n",
              "1457    70\n",
              "1458    20\n",
              "1459    20\n",
              "Name: MSSubClass, Length: 1460, dtype: int64"
            ],
            "text/html": [
              "<div>\n",
              "<style scoped>\n",
              "    .dataframe tbody tr th:only-of-type {\n",
              "        vertical-align: middle;\n",
              "    }\n",
              "\n",
              "    .dataframe tbody tr th {\n",
              "        vertical-align: top;\n",
              "    }\n",
              "\n",
              "    .dataframe thead th {\n",
              "        text-align: right;\n",
              "    }\n",
              "</style>\n",
              "<table border=\"1\" class=\"dataframe\">\n",
              "  <thead>\n",
              "    <tr style=\"text-align: right;\">\n",
              "      <th></th>\n",
              "      <th>MSSubClass</th>\n",
              "    </tr>\n",
              "  </thead>\n",
              "  <tbody>\n",
              "    <tr>\n",
              "      <th>0</th>\n",
              "      <td>60</td>\n",
              "    </tr>\n",
              "    <tr>\n",
              "      <th>1</th>\n",
              "      <td>20</td>\n",
              "    </tr>\n",
              "    <tr>\n",
              "      <th>2</th>\n",
              "      <td>60</td>\n",
              "    </tr>\n",
              "    <tr>\n",
              "      <th>3</th>\n",
              "      <td>70</td>\n",
              "    </tr>\n",
              "    <tr>\n",
              "      <th>4</th>\n",
              "      <td>60</td>\n",
              "    </tr>\n",
              "    <tr>\n",
              "      <th>...</th>\n",
              "      <td>...</td>\n",
              "    </tr>\n",
              "    <tr>\n",
              "      <th>1455</th>\n",
              "      <td>60</td>\n",
              "    </tr>\n",
              "    <tr>\n",
              "      <th>1456</th>\n",
              "      <td>20</td>\n",
              "    </tr>\n",
              "    <tr>\n",
              "      <th>1457</th>\n",
              "      <td>70</td>\n",
              "    </tr>\n",
              "    <tr>\n",
              "      <th>1458</th>\n",
              "      <td>20</td>\n",
              "    </tr>\n",
              "    <tr>\n",
              "      <th>1459</th>\n",
              "      <td>20</td>\n",
              "    </tr>\n",
              "  </tbody>\n",
              "</table>\n",
              "<p>1460 rows × 1 columns</p>\n",
              "</div><br><label><b>dtype:</b> int64</label>"
            ]
          },
          "metadata": {},
          "execution_count": 273
        }
      ]
    },
    {
      "cell_type": "code",
      "source": [
        "# Encode some categorical features as ordered numbers when there is information in the order\n",
        "df_train = df_train.replace({\"Alley\" : {\"Grvl\" : 1, \"Pave\" : 2},\n",
        "                       \"BsmtCond\" : {\"No\" : 0, \"Po\" : 1, \"Fa\" : 2, \"TA\" : 3, \"Gd\" : 4, \"Ex\" : 5},\n",
        "                       \"BsmtExposure\" : {\"No\" : 0, \"Mn\" : 1, \"Av\": 2, \"Gd\" : 3},\n",
        "                       \"BsmtFinType1\" : {\"No\" : 0, \"Unf\" : 1, \"LwQ\": 2, \"Rec\" : 3, \"BLQ\" : 4,\n",
        "                                         \"ALQ\" : 5, \"GLQ\" : 6},\n",
        "                       \"BsmtFinType2\" : {\"No\" : 0, \"Unf\" : 1, \"LwQ\": 2, \"Rec\" : 3, \"BLQ\" : 4,\n",
        "                                         \"ALQ\" : 5, \"GLQ\" : 6},\n",
        "                       \"BsmtQual\" : {\"No\" : 0, \"Po\" : 1, \"Fa\" : 2, \"TA\": 3, \"Gd\" : 4, \"Ex\" : 5},\n",
        "                       \"ExterCond\" : {\"Po\" : 1, \"Fa\" : 2, \"TA\": 3, \"Gd\": 4, \"Ex\" : 5},\n",
        "                       \"ExterQual\" : {\"Po\" : 1, \"Fa\" : 2, \"TA\": 3, \"Gd\": 4, \"Ex\" : 5},\n",
        "                       \"FireplaceQu\" : {\"No\" : 0, \"Po\" : 1, \"Fa\" : 2, \"TA\" : 3, \"Gd\" : 4, \"Ex\" : 5},\n",
        "                       \"Functional\" : {\"Sal\" : 1, \"Sev\" : 2, \"Maj2\" : 3, \"Maj1\" : 4, \"Mod\": 5,\n",
        "                                       \"Min2\" : 6, \"Min1\" : 7, \"Typ\" : 8},\n",
        "                       \"GarageCond\" : {\"No\" : 0, \"Po\" : 1, \"Fa\" : 2, \"TA\" : 3, \"Gd\" : 4, \"Ex\" : 5},\n",
        "                       \"GarageQual\" : {\"No\" : 0, \"Po\" : 1, \"Fa\" : 2, \"TA\" : 3, \"Gd\" : 4, \"Ex\" : 5},\n",
        "                       \"HeatingQC\" : {\"Po\" : 1, \"Fa\" : 2, \"TA\" : 3, \"Gd\" : 4, \"Ex\" : 5},\n",
        "                       \"KitchenQual\" : {\"Po\" : 1, \"Fa\" : 2, \"TA\" : 3, \"Gd\" : 4, \"Ex\" : 5},\n",
        "                       \"LandSlope\" : {\"Sev\" : 1, \"Mod\" : 2, \"Gtl\" : 3},\n",
        "                       \"LotShape\" : {\"IR3\" : 1, \"IR2\" : 2, \"IR1\" : 3, \"Reg\" : 4},\n",
        "                       \"PavedDrive\" : {\"N\" : 0, \"P\" : 1, \"Y\" : 2},\n",
        "                       \"PoolQC\" : {\"No\" : 0, \"Fa\" : 1, \"TA\" : 2, \"Gd\" : 3, \"Ex\" : 4},\n",
        "                       \"Street\" : {\"Grvl\" : 1, \"Pave\" : 2},\n",
        "                       \"Utilities\" : {\"ELO\" : 1, \"NoSeWa\" : 2, \"NoSewr\" : 3, \"AllPub\" : 4}}\n",
        "                     )\n"
      ],
      "metadata": {
        "id": "5PZa55VAlQm1"
      },
      "execution_count": null,
      "outputs": []
    },
    {
      "cell_type": "markdown",
      "source": [
        "Then we will create new features, in 3 ways :\n",
        "\n",
        "- Simplifications of existing features\n",
        "- Combinations of existing features\n",
        "- Polynomials on the top 10 existing features"
      ],
      "metadata": {
        "id": "iGuoVwhItbEk"
      }
    },
    {
      "cell_type": "code",
      "source": [
        "# Create new features\n",
        "# 1* Simplifications of existing features\n",
        "df_train[\"SimplOverallQual\"] = df_train.OverallQual.replace({1 : 1, 2 : 1, 3 : 1, # bad\n",
        "                                                       4 : 2, 5 : 2, 6 : 2, # average\n",
        "                                                       7 : 3, 8 : 3, 9 : 3, 10 : 3 # good\n",
        "                                                      })\n",
        "df_train[\"SimplOverallCond\"] = df_train.OverallCond.replace({1 : 1, 2 : 1, 3 : 1, # bad\n",
        "                                                       4 : 2, 5 : 2, 6 : 2, # average\n",
        "                                                       7 : 3, 8 : 3, 9 : 3, 10 : 3 # good\n",
        "                                                      })\n",
        "df_train[\"SimplPoolQC\"] = df_train.PoolQC.replace({1 : 1, 2 : 1, # average\n",
        "                                             3 : 2, 4 : 2 # good\n",
        "                                            })\n",
        "df_train[\"SimplGarageCond\"] = df_train.GarageCond.replace({1 : 1, # bad\n",
        "                                                     2 : 1, 3 : 1, # average\n",
        "                                                     4 : 2, 5 : 2 # good\n",
        "                                                    })\n",
        "df_train[\"SimplGarageQual\"] = df_train.GarageQual.replace({1 : 1, # bad\n",
        "                                                     2 : 1, 3 : 1, # average\n",
        "                                                     4 : 2, 5 : 2 # good\n",
        "                                                    })\n",
        "df_train[\"SimplFireplaceQu\"] = df_train.FireplaceQu.replace({1 : 1, # bad\n",
        "                                                       2 : 1, 3 : 1, # average\n",
        "                                                       4 : 2, 5 : 2 # good\n",
        "                                                      })\n",
        "df_train[\"SimplFireplaceQu\"] = df_train.FireplaceQu.replace({1 : 1, # bad\n",
        "                                                       2 : 1, 3 : 1, # average\n",
        "                                                       4 : 2, 5 : 2 # good\n",
        "                                                      })\n",
        "df_train[\"SimplFunctional\"] = df_train.Functional.replace({1 : 1, 2 : 1, # bad\n",
        "                                                     3 : 2, 4 : 2, # major\n",
        "                                                     5 : 3, 6 : 3, 7 : 3, # minor\n",
        "                                                     8 : 4 # typical\n",
        "                                                    })\n",
        "df_train[\"SimplKitchenQual\"] = df_train.KitchenQual.replace({1 : 1, # bad\n",
        "                                                       2 : 1, 3 : 1, # average\n",
        "                                                       4 : 2, 5 : 2 # good\n",
        "                                                      })\n",
        "df_train[\"SimplHeatingQC\"] = df_train.HeatingQC.replace({1 : 1, # bad\n",
        "                                                   2 : 1, 3 : 1, # average\n",
        "                                                   4 : 2, 5 : 2 # good\n",
        "                                                  })\n",
        "df_train[\"SimplBsmtFinType1\"] = df_train.BsmtFinType1.replace({1 : 1, # unfinished\n",
        "                                                         2 : 1, 3 : 1, # rec room\n",
        "                                                         4 : 2, 5 : 2, 6 : 2 # living quarters\n",
        "                                                        })\n",
        "df_train[\"SimplBsmtFinType2\"] = df_train.BsmtFinType2.replace({1 : 1, # unfinished\n",
        "                                                         2 : 1, 3 : 1, # rec room\n",
        "                                                         4 : 2, 5 : 2, 6 : 2 # living quarters\n",
        "                                                        })\n",
        "df_train[\"SimplBsmtCond\"] = df_train.BsmtCond.replace({1 : 1, # bad\n",
        "                                                 2 : 1, 3 : 1, # average\n",
        "                                                 4 : 2, 5 : 2 # good\n",
        "                                                })\n",
        "df_train[\"SimplBsmtQual\"] = df_train.BsmtQual.replace({1 : 1, # bad\n",
        "                                                 2 : 1, 3 : 1, # average\n",
        "                                                 4 : 2, 5 : 2 # good\n",
        "                                                })\n",
        "df_train[\"SimplExterCond\"] = df_train.ExterCond.replace({1 : 1, # bad\n",
        "                                                   2 : 1, 3 : 1, # average\n",
        "                                                   4 : 2, 5 : 2 # good\n",
        "                                                  })\n",
        "df_train[\"SimplExterQual\"] = df_train.ExterQual.replace({1 : 1, # bad\n",
        "                                                   2 : 1, 3 : 1, # average\n",
        "                                                   4 : 2, 5 : 2 # good\n",
        "                                                  })\n",
        "\n",
        "# 2* Combinations of existing features\n",
        "# Overall quality of the house\n",
        "df_train[\"OverallGrade\"] = df_train[\"OverallQual\"] * df_train[\"OverallCond\"]\n",
        "# Overall quality of the garage\n",
        "df_train[\"GarageGrade\"] = df_train[\"GarageQual\"] * df_train[\"GarageCond\"]\n",
        "# Overall quality of the exterior\n",
        "df_train[\"ExterGrade\"] = df_train[\"ExterQual\"] * df_train[\"ExterCond\"]\n",
        "# Overall kitchen score\n",
        "df_train[\"KitchenScore\"] = df_train[\"KitchenAbvGr\"] * df_train[\"KitchenQual\"]\n",
        "# Overall fireplace score\n",
        "df_train[\"FireplaceScore\"] = df_train[\"Fireplaces\"] * df_train[\"FireplaceQu\"]\n",
        "# Overall garage score\n",
        "df_train[\"GarageScore\"] = df_train[\"GarageArea\"] * df_train[\"GarageQual\"]\n",
        "# Overall pool score\n",
        "df_train[\"PoolScore\"] = df_train[\"PoolArea\"] * df_train[\"PoolQC\"]\n",
        "# Simplified overall quality of the house\n",
        "df_train[\"SimplOverallGrade\"] = df_train[\"SimplOverallQual\"] * df_train[\"SimplOverallCond\"]\n",
        "# Simplified overall quality of the exterior\n",
        "df_train[\"SimplExterGrade\"] = df_train[\"SimplExterQual\"] * df_train[\"SimplExterCond\"]\n",
        "# Simplified overall pool score\n",
        "df_train[\"SimplPoolScore\"] = df_train[\"PoolArea\"] * df_train[\"SimplPoolQC\"]\n",
        "# Simplified overall garage score\n",
        "df_train[\"SimplGarageScore\"] = df_train[\"GarageArea\"] * df_train[\"SimplGarageQual\"]\n",
        "df_train[\"SimplFireplaceScore\"] = df_train[\"Fireplaces\"] * df_train[\"SimplFireplaceQu\"]\n",
        "# Simplified overall kitchen score\n",
        "df_train[\"SimplKitchenScore\"] = df_train[\"KitchenAbvGr\"] * df_train[\"SimplKitchenQual\"]\n",
        "# Total number of bathrooms\n",
        "df_train[\"TotalBath\"] = df_train[\"BsmtFullBath\"] + (0.5 * df_train[\"BsmtHalfBath\"]) + \\\n",
        "df_train[\"FullBath\"] + (0.5 * df_train[\"HalfBath\"])\n",
        "# Total SF for house (incl. basement)\n",
        "df_train[\"AllSF\"] = df_train[\"GrLivArea\"] + df_train[\"TotalBsmtSF\"]\n",
        "# Total SF for 1st + 2nd floors\n",
        "df_train[\"AllFlrsSF\"] = df_train[\"1stFlrSF\"] + df_train[\"2ndFlrSF\"]\n",
        "# Total SF for porch\n",
        "df_train[\"AllPorchSF\"] = df_train[\"OpenPorchSF\"] + df_train[\"EnclosedPorch\"] + \\\n",
        "df_train[\"3SsnPorch\"] + df_train[\"ScreenPorch\"]\n",
        "# Has masonry veneer or not\n",
        "df_train[\"HasMasVnr\"] = df_train.MasVnrType.replace({\"BrkCmn\" : 1, \"BrkFace\" : 1, \"CBlock\" : 1,\n",
        "                                               \"Stone\" : 1, \"None\" : 0})\n",
        "# House completed before sale or not\n",
        "df_train[\"BoughtOffPlan\"] = df_train.SaleCondition.replace({\"Abnorml\" : 0, \"Alloca\" : 0, \"AdjLand\" : 0,\n",
        "                                                            \"Family\" : 0, \"Normal\" : 0, \"Partial\" : 1})"
      ],
      "metadata": {
        "id": "NuRUvCtqla_o"
      },
      "execution_count": null,
      "outputs": []
    },
    {
      "cell_type": "code",
      "source": [
        "df_train.dtypes"
      ],
      "metadata": {
        "colab": {
          "base_uri": "https://localhost:8080/",
          "height": 458
        },
        "id": "VwpApmY_n34E",
        "outputId": "e3768ee3-8839-40ee-8db2-512e23c4e70b"
      },
      "execution_count": null,
      "outputs": [
        {
          "output_type": "execute_result",
          "data": {
            "text/plain": [
              "MSSubClass         int64\n",
              "MSZoning          object\n",
              "LotFrontage      float64\n",
              "LotArea            int64\n",
              "Street             int64\n",
              "                  ...   \n",
              "AllSF              int64\n",
              "AllFlrsSF          int64\n",
              "AllPorchSF         int64\n",
              "HasMasVnr          int64\n",
              "BoughtOffPlan      int64\n",
              "Length: 114, dtype: object"
            ],
            "text/html": [
              "<div>\n",
              "<style scoped>\n",
              "    .dataframe tbody tr th:only-of-type {\n",
              "        vertical-align: middle;\n",
              "    }\n",
              "\n",
              "    .dataframe tbody tr th {\n",
              "        vertical-align: top;\n",
              "    }\n",
              "\n",
              "    .dataframe thead th {\n",
              "        text-align: right;\n",
              "    }\n",
              "</style>\n",
              "<table border=\"1\" class=\"dataframe\">\n",
              "  <thead>\n",
              "    <tr style=\"text-align: right;\">\n",
              "      <th></th>\n",
              "      <th>0</th>\n",
              "    </tr>\n",
              "  </thead>\n",
              "  <tbody>\n",
              "    <tr>\n",
              "      <th>MSSubClass</th>\n",
              "      <td>int64</td>\n",
              "    </tr>\n",
              "    <tr>\n",
              "      <th>MSZoning</th>\n",
              "      <td>object</td>\n",
              "    </tr>\n",
              "    <tr>\n",
              "      <th>LotFrontage</th>\n",
              "      <td>float64</td>\n",
              "    </tr>\n",
              "    <tr>\n",
              "      <th>LotArea</th>\n",
              "      <td>int64</td>\n",
              "    </tr>\n",
              "    <tr>\n",
              "      <th>Street</th>\n",
              "      <td>int64</td>\n",
              "    </tr>\n",
              "    <tr>\n",
              "      <th>...</th>\n",
              "      <td>...</td>\n",
              "    </tr>\n",
              "    <tr>\n",
              "      <th>AllSF</th>\n",
              "      <td>int64</td>\n",
              "    </tr>\n",
              "    <tr>\n",
              "      <th>AllFlrsSF</th>\n",
              "      <td>int64</td>\n",
              "    </tr>\n",
              "    <tr>\n",
              "      <th>AllPorchSF</th>\n",
              "      <td>int64</td>\n",
              "    </tr>\n",
              "    <tr>\n",
              "      <th>HasMasVnr</th>\n",
              "      <td>int64</td>\n",
              "    </tr>\n",
              "    <tr>\n",
              "      <th>BoughtOffPlan</th>\n",
              "      <td>int64</td>\n",
              "    </tr>\n",
              "  </tbody>\n",
              "</table>\n",
              "<p>114 rows × 1 columns</p>\n",
              "</div><br><label><b>dtype:</b> object</label>"
            ]
          },
          "metadata": {},
          "execution_count": 276
        }
      ]
    },
    {
      "cell_type": "code",
      "source": [
        "df_train"
      ],
      "metadata": {
        "colab": {
          "base_uri": "https://localhost:8080/",
          "height": 443
        },
        "id": "h6JtPFuhtAYV",
        "outputId": "89a03508-df10-43e7-a891-40707f4daa72"
      },
      "execution_count": null,
      "outputs": [
        {
          "output_type": "execute_result",
          "data": {
            "text/plain": [
              "      MSSubClass MSZoning  LotFrontage  LotArea  Street Alley  LotShape  \\\n",
              "0             60       RL       65.000     8450       2  None         4   \n",
              "1             20       RL       80.000     9600       2  None         4   \n",
              "2             60       RL       68.000    11250       2  None         3   \n",
              "3             70       RL       60.000     9550       2  None         3   \n",
              "4             60       RL       84.000    14260       2  None         3   \n",
              "...          ...      ...          ...      ...     ...   ...       ...   \n",
              "1455          60       RL       62.000     7917       2  None         4   \n",
              "1456          20       RL       85.000    13175       2  None         4   \n",
              "1457          70       RL       66.000     9042       2  None         4   \n",
              "1458          20       RL       68.000     9717       2  None         4   \n",
              "1459          20       RL       75.000     9937       2  None         4   \n",
              "\n",
              "     LandContour  Utilities LotConfig  ...  SimplPoolScore SimplGarageScore  \\\n",
              "0            Lvl          4    Inside  ...               0              548   \n",
              "1            Lvl          4       FR2  ...               0              460   \n",
              "2            Lvl          4    Inside  ...               0              608   \n",
              "3            Lvl          4    Corner  ...               0              642   \n",
              "4            Lvl          4       FR2  ...               0              836   \n",
              "...          ...        ...       ...  ...             ...              ...   \n",
              "1455         Lvl          4    Inside  ...               0              460   \n",
              "1456         Lvl          4    Inside  ...               0              500   \n",
              "1457         Lvl          4    Inside  ...               0              252   \n",
              "1458         Lvl          4    Inside  ...               0              240   \n",
              "1459         Lvl          4    Inside  ...               0              276   \n",
              "\n",
              "     SimplFireplaceScore SimplKitchenScore TotalBath AllSF  AllFlrsSF  \\\n",
              "0                      0                 2     3.500  2566       1710   \n",
              "1                      1                 1     2.500  2524       1262   \n",
              "2                      1                 2     3.500  2706       1786   \n",
              "3                      2                 2     2.000  2473       1717   \n",
              "4                      1                 2     3.500  3343       2198   \n",
              "...                  ...               ...       ...   ...        ...   \n",
              "1455                   1                 1     2.500  2600       1647   \n",
              "1456                   2                 1     3.000  3615       2073   \n",
              "1457                   4                 2     2.000  3492       2340   \n",
              "1458                   0                 2     2.000  2156       1078   \n",
              "1459                   0                 1     2.500  2512       1256   \n",
              "\n",
              "      AllPorchSF  HasMasVnr  BoughtOffPlan  \n",
              "0             61          1              0  \n",
              "1              0          0              0  \n",
              "2             42          1              0  \n",
              "3            307          0              0  \n",
              "4             84          1              0  \n",
              "...          ...        ...            ...  \n",
              "1455          40          0              0  \n",
              "1456           0          1              0  \n",
              "1457          60          0              0  \n",
              "1458         112          0              0  \n",
              "1459          68          0              0  \n",
              "\n",
              "[1460 rows x 114 columns]"
            ],
            "text/html": [
              "\n",
              "  <div id=\"df-b549c340-a69d-4562-b50d-dd852f5a53f2\" class=\"colab-df-container\">\n",
              "    <div>\n",
              "<style scoped>\n",
              "    .dataframe tbody tr th:only-of-type {\n",
              "        vertical-align: middle;\n",
              "    }\n",
              "\n",
              "    .dataframe tbody tr th {\n",
              "        vertical-align: top;\n",
              "    }\n",
              "\n",
              "    .dataframe thead th {\n",
              "        text-align: right;\n",
              "    }\n",
              "</style>\n",
              "<table border=\"1\" class=\"dataframe\">\n",
              "  <thead>\n",
              "    <tr style=\"text-align: right;\">\n",
              "      <th></th>\n",
              "      <th>MSSubClass</th>\n",
              "      <th>MSZoning</th>\n",
              "      <th>LotFrontage</th>\n",
              "      <th>LotArea</th>\n",
              "      <th>Street</th>\n",
              "      <th>Alley</th>\n",
              "      <th>LotShape</th>\n",
              "      <th>LandContour</th>\n",
              "      <th>Utilities</th>\n",
              "      <th>LotConfig</th>\n",
              "      <th>...</th>\n",
              "      <th>SimplPoolScore</th>\n",
              "      <th>SimplGarageScore</th>\n",
              "      <th>SimplFireplaceScore</th>\n",
              "      <th>SimplKitchenScore</th>\n",
              "      <th>TotalBath</th>\n",
              "      <th>AllSF</th>\n",
              "      <th>AllFlrsSF</th>\n",
              "      <th>AllPorchSF</th>\n",
              "      <th>HasMasVnr</th>\n",
              "      <th>BoughtOffPlan</th>\n",
              "    </tr>\n",
              "  </thead>\n",
              "  <tbody>\n",
              "    <tr>\n",
              "      <th>0</th>\n",
              "      <td>60</td>\n",
              "      <td>RL</td>\n",
              "      <td>65.000</td>\n",
              "      <td>8450</td>\n",
              "      <td>2</td>\n",
              "      <td>None</td>\n",
              "      <td>4</td>\n",
              "      <td>Lvl</td>\n",
              "      <td>4</td>\n",
              "      <td>Inside</td>\n",
              "      <td>...</td>\n",
              "      <td>0</td>\n",
              "      <td>548</td>\n",
              "      <td>0</td>\n",
              "      <td>2</td>\n",
              "      <td>3.500</td>\n",
              "      <td>2566</td>\n",
              "      <td>1710</td>\n",
              "      <td>61</td>\n",
              "      <td>1</td>\n",
              "      <td>0</td>\n",
              "    </tr>\n",
              "    <tr>\n",
              "      <th>1</th>\n",
              "      <td>20</td>\n",
              "      <td>RL</td>\n",
              "      <td>80.000</td>\n",
              "      <td>9600</td>\n",
              "      <td>2</td>\n",
              "      <td>None</td>\n",
              "      <td>4</td>\n",
              "      <td>Lvl</td>\n",
              "      <td>4</td>\n",
              "      <td>FR2</td>\n",
              "      <td>...</td>\n",
              "      <td>0</td>\n",
              "      <td>460</td>\n",
              "      <td>1</td>\n",
              "      <td>1</td>\n",
              "      <td>2.500</td>\n",
              "      <td>2524</td>\n",
              "      <td>1262</td>\n",
              "      <td>0</td>\n",
              "      <td>0</td>\n",
              "      <td>0</td>\n",
              "    </tr>\n",
              "    <tr>\n",
              "      <th>2</th>\n",
              "      <td>60</td>\n",
              "      <td>RL</td>\n",
              "      <td>68.000</td>\n",
              "      <td>11250</td>\n",
              "      <td>2</td>\n",
              "      <td>None</td>\n",
              "      <td>3</td>\n",
              "      <td>Lvl</td>\n",
              "      <td>4</td>\n",
              "      <td>Inside</td>\n",
              "      <td>...</td>\n",
              "      <td>0</td>\n",
              "      <td>608</td>\n",
              "      <td>1</td>\n",
              "      <td>2</td>\n",
              "      <td>3.500</td>\n",
              "      <td>2706</td>\n",
              "      <td>1786</td>\n",
              "      <td>42</td>\n",
              "      <td>1</td>\n",
              "      <td>0</td>\n",
              "    </tr>\n",
              "    <tr>\n",
              "      <th>3</th>\n",
              "      <td>70</td>\n",
              "      <td>RL</td>\n",
              "      <td>60.000</td>\n",
              "      <td>9550</td>\n",
              "      <td>2</td>\n",
              "      <td>None</td>\n",
              "      <td>3</td>\n",
              "      <td>Lvl</td>\n",
              "      <td>4</td>\n",
              "      <td>Corner</td>\n",
              "      <td>...</td>\n",
              "      <td>0</td>\n",
              "      <td>642</td>\n",
              "      <td>2</td>\n",
              "      <td>2</td>\n",
              "      <td>2.000</td>\n",
              "      <td>2473</td>\n",
              "      <td>1717</td>\n",
              "      <td>307</td>\n",
              "      <td>0</td>\n",
              "      <td>0</td>\n",
              "    </tr>\n",
              "    <tr>\n",
              "      <th>4</th>\n",
              "      <td>60</td>\n",
              "      <td>RL</td>\n",
              "      <td>84.000</td>\n",
              "      <td>14260</td>\n",
              "      <td>2</td>\n",
              "      <td>None</td>\n",
              "      <td>3</td>\n",
              "      <td>Lvl</td>\n",
              "      <td>4</td>\n",
              "      <td>FR2</td>\n",
              "      <td>...</td>\n",
              "      <td>0</td>\n",
              "      <td>836</td>\n",
              "      <td>1</td>\n",
              "      <td>2</td>\n",
              "      <td>3.500</td>\n",
              "      <td>3343</td>\n",
              "      <td>2198</td>\n",
              "      <td>84</td>\n",
              "      <td>1</td>\n",
              "      <td>0</td>\n",
              "    </tr>\n",
              "    <tr>\n",
              "      <th>...</th>\n",
              "      <td>...</td>\n",
              "      <td>...</td>\n",
              "      <td>...</td>\n",
              "      <td>...</td>\n",
              "      <td>...</td>\n",
              "      <td>...</td>\n",
              "      <td>...</td>\n",
              "      <td>...</td>\n",
              "      <td>...</td>\n",
              "      <td>...</td>\n",
              "      <td>...</td>\n",
              "      <td>...</td>\n",
              "      <td>...</td>\n",
              "      <td>...</td>\n",
              "      <td>...</td>\n",
              "      <td>...</td>\n",
              "      <td>...</td>\n",
              "      <td>...</td>\n",
              "      <td>...</td>\n",
              "      <td>...</td>\n",
              "      <td>...</td>\n",
              "    </tr>\n",
              "    <tr>\n",
              "      <th>1455</th>\n",
              "      <td>60</td>\n",
              "      <td>RL</td>\n",
              "      <td>62.000</td>\n",
              "      <td>7917</td>\n",
              "      <td>2</td>\n",
              "      <td>None</td>\n",
              "      <td>4</td>\n",
              "      <td>Lvl</td>\n",
              "      <td>4</td>\n",
              "      <td>Inside</td>\n",
              "      <td>...</td>\n",
              "      <td>0</td>\n",
              "      <td>460</td>\n",
              "      <td>1</td>\n",
              "      <td>1</td>\n",
              "      <td>2.500</td>\n",
              "      <td>2600</td>\n",
              "      <td>1647</td>\n",
              "      <td>40</td>\n",
              "      <td>0</td>\n",
              "      <td>0</td>\n",
              "    </tr>\n",
              "    <tr>\n",
              "      <th>1456</th>\n",
              "      <td>20</td>\n",
              "      <td>RL</td>\n",
              "      <td>85.000</td>\n",
              "      <td>13175</td>\n",
              "      <td>2</td>\n",
              "      <td>None</td>\n",
              "      <td>4</td>\n",
              "      <td>Lvl</td>\n",
              "      <td>4</td>\n",
              "      <td>Inside</td>\n",
              "      <td>...</td>\n",
              "      <td>0</td>\n",
              "      <td>500</td>\n",
              "      <td>2</td>\n",
              "      <td>1</td>\n",
              "      <td>3.000</td>\n",
              "      <td>3615</td>\n",
              "      <td>2073</td>\n",
              "      <td>0</td>\n",
              "      <td>1</td>\n",
              "      <td>0</td>\n",
              "    </tr>\n",
              "    <tr>\n",
              "      <th>1457</th>\n",
              "      <td>70</td>\n",
              "      <td>RL</td>\n",
              "      <td>66.000</td>\n",
              "      <td>9042</td>\n",
              "      <td>2</td>\n",
              "      <td>None</td>\n",
              "      <td>4</td>\n",
              "      <td>Lvl</td>\n",
              "      <td>4</td>\n",
              "      <td>Inside</td>\n",
              "      <td>...</td>\n",
              "      <td>0</td>\n",
              "      <td>252</td>\n",
              "      <td>4</td>\n",
              "      <td>2</td>\n",
              "      <td>2.000</td>\n",
              "      <td>3492</td>\n",
              "      <td>2340</td>\n",
              "      <td>60</td>\n",
              "      <td>0</td>\n",
              "      <td>0</td>\n",
              "    </tr>\n",
              "    <tr>\n",
              "      <th>1458</th>\n",
              "      <td>20</td>\n",
              "      <td>RL</td>\n",
              "      <td>68.000</td>\n",
              "      <td>9717</td>\n",
              "      <td>2</td>\n",
              "      <td>None</td>\n",
              "      <td>4</td>\n",
              "      <td>Lvl</td>\n",
              "      <td>4</td>\n",
              "      <td>Inside</td>\n",
              "      <td>...</td>\n",
              "      <td>0</td>\n",
              "      <td>240</td>\n",
              "      <td>0</td>\n",
              "      <td>2</td>\n",
              "      <td>2.000</td>\n",
              "      <td>2156</td>\n",
              "      <td>1078</td>\n",
              "      <td>112</td>\n",
              "      <td>0</td>\n",
              "      <td>0</td>\n",
              "    </tr>\n",
              "    <tr>\n",
              "      <th>1459</th>\n",
              "      <td>20</td>\n",
              "      <td>RL</td>\n",
              "      <td>75.000</td>\n",
              "      <td>9937</td>\n",
              "      <td>2</td>\n",
              "      <td>None</td>\n",
              "      <td>4</td>\n",
              "      <td>Lvl</td>\n",
              "      <td>4</td>\n",
              "      <td>Inside</td>\n",
              "      <td>...</td>\n",
              "      <td>0</td>\n",
              "      <td>276</td>\n",
              "      <td>0</td>\n",
              "      <td>1</td>\n",
              "      <td>2.500</td>\n",
              "      <td>2512</td>\n",
              "      <td>1256</td>\n",
              "      <td>68</td>\n",
              "      <td>0</td>\n",
              "      <td>0</td>\n",
              "    </tr>\n",
              "  </tbody>\n",
              "</table>\n",
              "<p>1460 rows × 114 columns</p>\n",
              "</div>\n",
              "    <div class=\"colab-df-buttons\">\n",
              "\n",
              "  <div class=\"colab-df-container\">\n",
              "    <button class=\"colab-df-convert\" onclick=\"convertToInteractive('df-b549c340-a69d-4562-b50d-dd852f5a53f2')\"\n",
              "            title=\"Convert this dataframe to an interactive table.\"\n",
              "            style=\"display:none;\">\n",
              "\n",
              "  <svg xmlns=\"http://www.w3.org/2000/svg\" height=\"24px\" viewBox=\"0 -960 960 960\">\n",
              "    <path d=\"M120-120v-720h720v720H120Zm60-500h600v-160H180v160Zm220 220h160v-160H400v160Zm0 220h160v-160H400v160ZM180-400h160v-160H180v160Zm440 0h160v-160H620v160ZM180-180h160v-160H180v160Zm440 0h160v-160H620v160Z\"/>\n",
              "  </svg>\n",
              "    </button>\n",
              "\n",
              "  <style>\n",
              "    .colab-df-container {\n",
              "      display:flex;\n",
              "      gap: 12px;\n",
              "    }\n",
              "\n",
              "    .colab-df-convert {\n",
              "      background-color: #E8F0FE;\n",
              "      border: none;\n",
              "      border-radius: 50%;\n",
              "      cursor: pointer;\n",
              "      display: none;\n",
              "      fill: #1967D2;\n",
              "      height: 32px;\n",
              "      padding: 0 0 0 0;\n",
              "      width: 32px;\n",
              "    }\n",
              "\n",
              "    .colab-df-convert:hover {\n",
              "      background-color: #E2EBFA;\n",
              "      box-shadow: 0px 1px 2px rgba(60, 64, 67, 0.3), 0px 1px 3px 1px rgba(60, 64, 67, 0.15);\n",
              "      fill: #174EA6;\n",
              "    }\n",
              "\n",
              "    .colab-df-buttons div {\n",
              "      margin-bottom: 4px;\n",
              "    }\n",
              "\n",
              "    [theme=dark] .colab-df-convert {\n",
              "      background-color: #3B4455;\n",
              "      fill: #D2E3FC;\n",
              "    }\n",
              "\n",
              "    [theme=dark] .colab-df-convert:hover {\n",
              "      background-color: #434B5C;\n",
              "      box-shadow: 0px 1px 3px 1px rgba(0, 0, 0, 0.15);\n",
              "      filter: drop-shadow(0px 1px 2px rgba(0, 0, 0, 0.3));\n",
              "      fill: #FFFFFF;\n",
              "    }\n",
              "  </style>\n",
              "\n",
              "    <script>\n",
              "      const buttonEl =\n",
              "        document.querySelector('#df-b549c340-a69d-4562-b50d-dd852f5a53f2 button.colab-df-convert');\n",
              "      buttonEl.style.display =\n",
              "        google.colab.kernel.accessAllowed ? 'block' : 'none';\n",
              "\n",
              "      async function convertToInteractive(key) {\n",
              "        const element = document.querySelector('#df-b549c340-a69d-4562-b50d-dd852f5a53f2');\n",
              "        const dataTable =\n",
              "          await google.colab.kernel.invokeFunction('convertToInteractive',\n",
              "                                                    [key], {});\n",
              "        if (!dataTable) return;\n",
              "\n",
              "        const docLinkHtml = 'Like what you see? Visit the ' +\n",
              "          '<a target=\"_blank\" href=https://colab.research.google.com/notebooks/data_table.ipynb>data table notebook</a>'\n",
              "          + ' to learn more about interactive tables.';\n",
              "        element.innerHTML = '';\n",
              "        dataTable['output_type'] = 'display_data';\n",
              "        await google.colab.output.renderOutput(dataTable, element);\n",
              "        const docLink = document.createElement('div');\n",
              "        docLink.innerHTML = docLinkHtml;\n",
              "        element.appendChild(docLink);\n",
              "      }\n",
              "    </script>\n",
              "  </div>\n",
              "\n",
              "\n",
              "<div id=\"df-4338b50f-76ef-4808-a468-1c4b633c1d03\">\n",
              "  <button class=\"colab-df-quickchart\" onclick=\"quickchart('df-4338b50f-76ef-4808-a468-1c4b633c1d03')\"\n",
              "            title=\"Suggest charts\"\n",
              "            style=\"display:none;\">\n",
              "\n",
              "<svg xmlns=\"http://www.w3.org/2000/svg\" height=\"24px\"viewBox=\"0 0 24 24\"\n",
              "     width=\"24px\">\n",
              "    <g>\n",
              "        <path d=\"M19 3H5c-1.1 0-2 .9-2 2v14c0 1.1.9 2 2 2h14c1.1 0 2-.9 2-2V5c0-1.1-.9-2-2-2zM9 17H7v-7h2v7zm4 0h-2V7h2v10zm4 0h-2v-4h2v4z\"/>\n",
              "    </g>\n",
              "</svg>\n",
              "  </button>\n",
              "\n",
              "<style>\n",
              "  .colab-df-quickchart {\n",
              "      --bg-color: #E8F0FE;\n",
              "      --fill-color: #1967D2;\n",
              "      --hover-bg-color: #E2EBFA;\n",
              "      --hover-fill-color: #174EA6;\n",
              "      --disabled-fill-color: #AAA;\n",
              "      --disabled-bg-color: #DDD;\n",
              "  }\n",
              "\n",
              "  [theme=dark] .colab-df-quickchart {\n",
              "      --bg-color: #3B4455;\n",
              "      --fill-color: #D2E3FC;\n",
              "      --hover-bg-color: #434B5C;\n",
              "      --hover-fill-color: #FFFFFF;\n",
              "      --disabled-bg-color: #3B4455;\n",
              "      --disabled-fill-color: #666;\n",
              "  }\n",
              "\n",
              "  .colab-df-quickchart {\n",
              "    background-color: var(--bg-color);\n",
              "    border: none;\n",
              "    border-radius: 50%;\n",
              "    cursor: pointer;\n",
              "    display: none;\n",
              "    fill: var(--fill-color);\n",
              "    height: 32px;\n",
              "    padding: 0;\n",
              "    width: 32px;\n",
              "  }\n",
              "\n",
              "  .colab-df-quickchart:hover {\n",
              "    background-color: var(--hover-bg-color);\n",
              "    box-shadow: 0 1px 2px rgba(60, 64, 67, 0.3), 0 1px 3px 1px rgba(60, 64, 67, 0.15);\n",
              "    fill: var(--button-hover-fill-color);\n",
              "  }\n",
              "\n",
              "  .colab-df-quickchart-complete:disabled,\n",
              "  .colab-df-quickchart-complete:disabled:hover {\n",
              "    background-color: var(--disabled-bg-color);\n",
              "    fill: var(--disabled-fill-color);\n",
              "    box-shadow: none;\n",
              "  }\n",
              "\n",
              "  .colab-df-spinner {\n",
              "    border: 2px solid var(--fill-color);\n",
              "    border-color: transparent;\n",
              "    border-bottom-color: var(--fill-color);\n",
              "    animation:\n",
              "      spin 1s steps(1) infinite;\n",
              "  }\n",
              "\n",
              "  @keyframes spin {\n",
              "    0% {\n",
              "      border-color: transparent;\n",
              "      border-bottom-color: var(--fill-color);\n",
              "      border-left-color: var(--fill-color);\n",
              "    }\n",
              "    20% {\n",
              "      border-color: transparent;\n",
              "      border-left-color: var(--fill-color);\n",
              "      border-top-color: var(--fill-color);\n",
              "    }\n",
              "    30% {\n",
              "      border-color: transparent;\n",
              "      border-left-color: var(--fill-color);\n",
              "      border-top-color: var(--fill-color);\n",
              "      border-right-color: var(--fill-color);\n",
              "    }\n",
              "    40% {\n",
              "      border-color: transparent;\n",
              "      border-right-color: var(--fill-color);\n",
              "      border-top-color: var(--fill-color);\n",
              "    }\n",
              "    60% {\n",
              "      border-color: transparent;\n",
              "      border-right-color: var(--fill-color);\n",
              "    }\n",
              "    80% {\n",
              "      border-color: transparent;\n",
              "      border-right-color: var(--fill-color);\n",
              "      border-bottom-color: var(--fill-color);\n",
              "    }\n",
              "    90% {\n",
              "      border-color: transparent;\n",
              "      border-bottom-color: var(--fill-color);\n",
              "    }\n",
              "  }\n",
              "</style>\n",
              "\n",
              "  <script>\n",
              "    async function quickchart(key) {\n",
              "      const quickchartButtonEl =\n",
              "        document.querySelector('#' + key + ' button');\n",
              "      quickchartButtonEl.disabled = true;  // To prevent multiple clicks.\n",
              "      quickchartButtonEl.classList.add('colab-df-spinner');\n",
              "      try {\n",
              "        const charts = await google.colab.kernel.invokeFunction(\n",
              "            'suggestCharts', [key], {});\n",
              "      } catch (error) {\n",
              "        console.error('Error during call to suggestCharts:', error);\n",
              "      }\n",
              "      quickchartButtonEl.classList.remove('colab-df-spinner');\n",
              "      quickchartButtonEl.classList.add('colab-df-quickchart-complete');\n",
              "    }\n",
              "    (() => {\n",
              "      let quickchartButtonEl =\n",
              "        document.querySelector('#df-4338b50f-76ef-4808-a468-1c4b633c1d03 button');\n",
              "      quickchartButtonEl.style.display =\n",
              "        google.colab.kernel.accessAllowed ? 'block' : 'none';\n",
              "    })();\n",
              "  </script>\n",
              "</div>\n",
              "\n",
              "  <div id=\"id_b36971aa-0857-48dd-bfdc-a9a580999305\">\n",
              "    <style>\n",
              "      .colab-df-generate {\n",
              "        background-color: #E8F0FE;\n",
              "        border: none;\n",
              "        border-radius: 50%;\n",
              "        cursor: pointer;\n",
              "        display: none;\n",
              "        fill: #1967D2;\n",
              "        height: 32px;\n",
              "        padding: 0 0 0 0;\n",
              "        width: 32px;\n",
              "      }\n",
              "\n",
              "      .colab-df-generate:hover {\n",
              "        background-color: #E2EBFA;\n",
              "        box-shadow: 0px 1px 2px rgba(60, 64, 67, 0.3), 0px 1px 3px 1px rgba(60, 64, 67, 0.15);\n",
              "        fill: #174EA6;\n",
              "      }\n",
              "\n",
              "      [theme=dark] .colab-df-generate {\n",
              "        background-color: #3B4455;\n",
              "        fill: #D2E3FC;\n",
              "      }\n",
              "\n",
              "      [theme=dark] .colab-df-generate:hover {\n",
              "        background-color: #434B5C;\n",
              "        box-shadow: 0px 1px 3px 1px rgba(0, 0, 0, 0.15);\n",
              "        filter: drop-shadow(0px 1px 2px rgba(0, 0, 0, 0.3));\n",
              "        fill: #FFFFFF;\n",
              "      }\n",
              "    </style>\n",
              "    <button class=\"colab-df-generate\" onclick=\"generateWithVariable('df_train')\"\n",
              "            title=\"Generate code using this dataframe.\"\n",
              "            style=\"display:none;\">\n",
              "\n",
              "  <svg xmlns=\"http://www.w3.org/2000/svg\" height=\"24px\"viewBox=\"0 0 24 24\"\n",
              "       width=\"24px\">\n",
              "    <path d=\"M7,19H8.4L18.45,9,17,7.55,7,17.6ZM5,21V16.75L18.45,3.32a2,2,0,0,1,2.83,0l1.4,1.43a1.91,1.91,0,0,1,.58,1.4,1.91,1.91,0,0,1-.58,1.4L9.25,21ZM18.45,9,17,7.55Zm-12,3A5.31,5.31,0,0,0,4.9,8.1,5.31,5.31,0,0,0,1,6.5,5.31,5.31,0,0,0,4.9,4.9,5.31,5.31,0,0,0,6.5,1,5.31,5.31,0,0,0,8.1,4.9,5.31,5.31,0,0,0,12,6.5,5.46,5.46,0,0,0,6.5,12Z\"/>\n",
              "  </svg>\n",
              "    </button>\n",
              "    <script>\n",
              "      (() => {\n",
              "      const buttonEl =\n",
              "        document.querySelector('#id_b36971aa-0857-48dd-bfdc-a9a580999305 button.colab-df-generate');\n",
              "      buttonEl.style.display =\n",
              "        google.colab.kernel.accessAllowed ? 'block' : 'none';\n",
              "\n",
              "      buttonEl.onclick = () => {\n",
              "        google.colab.notebook.generateWithVariable('df_train');\n",
              "      }\n",
              "      })();\n",
              "    </script>\n",
              "  </div>\n",
              "\n",
              "    </div>\n",
              "  </div>\n"
            ],
            "application/vnd.google.colaboratory.intrinsic+json": {
              "type": "dataframe",
              "variable_name": "df_train"
            }
          },
          "metadata": {},
          "execution_count": 277
        }
      ]
    },
    {
      "cell_type": "code",
      "source": [
        "# # Find most important features relative to target\n",
        "# print(\"Find most important features relative to target\")\n",
        "# corr = df_train.corr()\n",
        "# corr.sort_values([\"SalePrice\"], ascending = False, inplace = True)\n",
        "# print(corr.SalePrice)"
      ],
      "metadata": {
        "id": "8BRPnyuUn1Oz"
      },
      "execution_count": null,
      "outputs": []
    },
    {
      "cell_type": "code",
      "source": [
        "# Create new features\n",
        "# 3* Polynomials on the top 10 existing features\n",
        "df_train[\"OverallQual-s2\"] = df_train[\"OverallQual\"] ** 2\n",
        "df_train[\"OverallQual-s3\"] = df_train[\"OverallQual\"] ** 3\n",
        "df_train[\"OverallQual-Sq\"] = np.sqrt(df_train[\"OverallQual\"])\n",
        "df_train[\"AllSF-2\"] = df_train[\"AllSF\"] ** 2\n",
        "df_train[\"AllSF-3\"] = df_train[\"AllSF\"] ** 3\n",
        "df_train[\"AllSF-Sq\"] = np.sqrt(df_train[\"AllSF\"])\n",
        "df_train[\"AllFlrsSF-2\"] = df_train[\"AllFlrsSF\"] ** 2\n",
        "df_train[\"AllFlrsSF-3\"] = df_train[\"AllFlrsSF\"] ** 3\n",
        "df_train[\"AllFlrsSF-Sq\"] = np.sqrt(df_train[\"AllFlrsSF\"])\n",
        "df_train[\"GrLivArea-2\"] = df_train[\"GrLivArea\"] ** 2\n",
        "df_train[\"GrLivArea-3\"] = df_train[\"GrLivArea\"] ** 3\n",
        "df_train[\"GrLivArea-Sq\"] = np.sqrt(df_train[\"GrLivArea\"])\n",
        "df_train[\"SimplOverallQual-s2\"] = df_train[\"SimplOverallQual\"] ** 2\n",
        "df_train[\"SimplOverallQual-s3\"] = df_train[\"SimplOverallQual\"] ** 3\n",
        "df_train[\"SimplOverallQual-Sq\"] = np.sqrt(df_train[\"SimplOverallQual\"])\n",
        "df_train[\"ExterQual-2\"] = df_train[\"ExterQual\"] ** 2\n",
        "df_train[\"ExterQual-3\"] = df_train[\"ExterQual\"] ** 3\n",
        "df_train[\"ExterQual-Sq\"] = np.sqrt(df_train[\"ExterQual\"])\n",
        "df_train[\"GarageCars-2\"] = df_train[\"GarageCars\"] ** 2\n",
        "df_train[\"GarageCars-3\"] = df_train[\"GarageCars\"] ** 3\n",
        "df_train[\"GarageCars-Sq\"] = np.sqrt(df_train[\"GarageCars\"])\n",
        "df_train[\"TotalBath-2\"] = df_train[\"TotalBath\"] ** 2\n",
        "df_train[\"TotalBath-3\"] = df_train[\"TotalBath\"] ** 3\n",
        "df_train[\"TotalBath-Sq\"] = np.sqrt(df_train[\"TotalBath\"])\n",
        "df_train[\"KitchenQual-2\"] = df_train[\"KitchenQual\"] ** 2\n",
        "df_train[\"KitchenQual-3\"] = df_train[\"KitchenQual\"] ** 3\n",
        "df_train[\"KitchenQual-Sq\"] = np.sqrt(df_train[\"KitchenQual\"])\n",
        "df_train[\"GarageScore-2\"] = df_train[\"GarageScore\"] ** 2\n",
        "df_train[\"GarageScore-3\"] = df_train[\"GarageScore\"] ** 3\n",
        "df_train[\"GarageScore-Sq\"] = np.sqrt(df_train[\"GarageScore\"])"
      ],
      "metadata": {
        "id": "1waZSWTuuath"
      },
      "execution_count": null,
      "outputs": []
    },
    {
      "cell_type": "code",
      "source": [
        "# Differentiate numerical features (minus the target) and categorical features\n",
        "categorical_features = df_train.select_dtypes(include = [\"object\"]).columns\n",
        "numerical_features = df_train.select_dtypes(exclude = [\"object\"]).columns\n",
        "numerical_features = numerical_features.drop(\"SalePrice\")\n",
        "print(\"Numerical features : \" + str(len(numerical_features)))\n",
        "print(\"Categorical features : \" + str(len(categorical_features)))\n",
        "train_num = df_train[numerical_features]\n",
        "train_cat = df_train[categorical_features]"
      ],
      "metadata": {
        "colab": {
          "base_uri": "https://localhost:8080/"
        },
        "id": "rq3Yqb1HvV8y",
        "outputId": "6a3d7ed8-93d6-40d8-d2f4-dad2fde623e4"
      },
      "execution_count": null,
      "outputs": [
        {
          "output_type": "stream",
          "name": "stdout",
          "text": [
            "Numerical features : 119\n",
            "Categorical features : 24\n"
          ]
        }
      ]
    },
    {
      "cell_type": "code",
      "source": [
        "# Handle remaining missing values for numerical features by using median as replacement\n",
        "print(\"NAs for numerical features in train : \" + str(train_num.isnull().values.sum()))\n",
        "train_num = train_num.fillna(train_num.median())\n",
        "print(\"Remaining NAs for numerical features in train : \" + str(train_num.isnull().values.sum()))"
      ],
      "metadata": {
        "colab": {
          "base_uri": "https://localhost:8080/"
        },
        "id": "50Qy0MwKwETw",
        "outputId": "ddd5db6f-80e3-4786-d37d-41751d023d7b"
      },
      "execution_count": null,
      "outputs": [
        {
          "output_type": "stream",
          "name": "stdout",
          "text": [
            "NAs for numerical features in train : 81\n",
            "Remaining NAs for numerical features in train : 0\n"
          ]
        }
      ]
    },
    {
      "cell_type": "code",
      "source": [
        "skewness = train_num.apply(lambda x: skew(x))\n",
        "skewness = skewness[abs(skewness) > 0.75]\n",
        "print(str(skewness.shape[0]) + \" skewed numerical features to log transform\")\n",
        "skewed_features = skewness.index\n",
        "train_num[skewed_features] = np.log1p(train_num[skewed_features])"
      ],
      "metadata": {
        "colab": {
          "base_uri": "https://localhost:8080/"
        },
        "id": "0TXZmNR8wLBB",
        "outputId": "90d25ce4-4c74-4d2b-b50e-715fc1090aa7"
      },
      "execution_count": null,
      "outputs": [
        {
          "output_type": "stream",
          "name": "stdout",
          "text": [
            "75 skewed numerical features to log transform\n"
          ]
        }
      ]
    },
    {
      "cell_type": "code",
      "source": [
        "# Create dummy features for categorical values via one-hot encoding\n",
        "print(\"NAs for categorical features in train : \" + str(train_cat.isnull().values.sum()))\n",
        "train_cat = pd.get_dummies(train_cat)\n",
        "print(\"Remaining NAs for categorical features in train : \" + str(train_cat.isnull().values.sum()))"
      ],
      "metadata": {
        "colab": {
          "base_uri": "https://localhost:8080/"
        },
        "id": "D0-RdnOnwa_R",
        "outputId": "4d94adad-061d-4375-8a28-3ad63b90053e"
      },
      "execution_count": null,
      "outputs": [
        {
          "output_type": "stream",
          "name": "stdout",
          "text": [
            "NAs for categorical features in train : 1\n",
            "Remaining NAs for categorical features in train : 0\n"
          ]
        }
      ]
    },
    {
      "cell_type": "markdown",
      "source": [
        "Modeling"
      ],
      "metadata": {
        "id": "SMgzTrTNwhng"
      }
    },
    {
      "cell_type": "code",
      "source": [
        "train = pd.concat([train_num, train_cat], axis = 1)\n",
        "print(\"Num  numbner of features :\" + str(train.shape[1]))\n",
        "\n",
        "#Partition the dataset in train + validation sets\n",
        "X_train, X_test, y_train, y_test = train_test_split(\n",
        "                                    train,\n",
        "                                    df_train.SalePrice,\n",
        "                                    test_size=0.3,\n",
        "                                    random_state=0)\n",
        "print(\"Training features shape: \" + str(X_train.shape))\n",
        "print(\"Training target shape: \" + str(y_train.shape))\n",
        "print(\"Test features shape: \" + str(X_test.shape))\n",
        "print(\"Test target shape: \" + str(y_test.shape))"
      ],
      "metadata": {
        "colab": {
          "base_uri": "https://localhost:8080/"
        },
        "id": "WQwxmqyqwe2Z",
        "outputId": "2038fbc4-885b-4493-a4c8-f268ee042592"
      },
      "execution_count": null,
      "outputs": [
        {
          "output_type": "stream",
          "name": "stdout",
          "text": [
            "Num  numbner of features :295\n",
            "Training features shape: (1022, 295)\n",
            "Training target shape: (1022,)\n",
            "Test features shape: (438, 295)\n",
            "Test target shape: (438,)\n"
          ]
        }
      ]
    },
    {
      "cell_type": "code",
      "source": [
        "#Standardizing the numerical features\n",
        "stdSc = StandardScaler()\n",
        "X_train = stdSc.fit_transform(X_train.loc[:, numerical_features])\n",
        "X_test = stdSc.transform(X_test.loc[:,numerical_features])"
      ],
      "metadata": {
        "id": "D1D-KhZixhmA"
      },
      "execution_count": null,
      "outputs": []
    },
    {
      "cell_type": "code",
      "source": [
        "#Define error measure : RMSE\n",
        "scorer = make_scorer(mean_squared_error, greater_is_better = False)\n",
        "\n",
        "def rmse_train(model):\n",
        "  rmse = np.sqrt(-cross_val_score(model, X_train, y_train, scoring=scorer, cv=10))\n",
        "  return (rmse)\n",
        "\n",
        "def rmse_test(model):\n",
        "  rmse = np.sqrt(-cross_val_score(model, X_test, y_test, scoring=scorer, cv=10))\n",
        "  return (rmse)"
      ],
      "metadata": {
        "id": "BvrhrpQJyDB-"
      },
      "execution_count": null,
      "outputs": []
    },
    {
      "cell_type": "code",
      "source": [
        "# Linear Regression\n",
        "lr = LinearRegression()\n",
        "lr.fit(X_train, y_train)\n",
        "\n",
        "# Look at predictions on training and validation set\n",
        "print(\"RMSE on Training set :\", rmse_train(lr).mean())\n",
        "print(\"RMSE on Test set :\", rmse_test(lr).mean())\n",
        "y_train_pred = lr.predict(X_train)\n",
        "y_test_pred = lr.predict(X_test)\n",
        "\n",
        "# Plot residuals\n",
        "plt.scatter(y_train_pred, y_train_pred - y_train, c = \"blue\", marker = \"s\", label = \"Training data\")\n",
        "plt.scatter(y_test_pred, y_test_pred - y_test, c = \"lightgreen\", marker = \"s\", label = \"Validation data\")\n",
        "plt.title(\"Linear regression\")\n",
        "plt.xlabel(\"Predicted values\")\n",
        "plt.ylabel(\"Residuals\")\n",
        "plt.legend(loc = \"upper left\")\n",
        "plt.hlines(y = 0, xmin = 10.5, xmax = 13.5, color = \"red\")\n",
        "plt.show()\n",
        "\n",
        "# Plot predictions\n",
        "plt.scatter(y_train_pred, y_train, c = \"blue\", marker = \"s\", label = \"Training data\")\n",
        "plt.scatter(y_test_pred, y_test, c = \"lightgreen\", marker = \"s\", label = \"Validation data\")\n",
        "plt.title(\"Linear regression\")\n",
        "plt.xlabel(\"Predicted values\")\n",
        "plt.ylabel(\"Real values\")\n",
        "plt.legend(loc = \"upper left\")\n",
        "plt.plot([10.5, 13.5], [10.5, 13.5], c = \"red\")\n",
        "plt.show()"
      ],
      "metadata": {
        "colab": {
          "base_uri": "https://localhost:8080/",
          "height": 963
        },
        "id": "8NyS1pV837Ry",
        "outputId": "7b67bbf1-abca-4e7e-f0c9-dd3e9a955cbd"
      },
      "execution_count": null,
      "outputs": [
        {
          "output_type": "stream",
          "name": "stdout",
          "text": [
            "RMSE on Training set : 1.1180703884173062e+16\n",
            "RMSE on Test set : 3.508104968390367e+16\n"
          ]
        },
        {
          "output_type": "display_data",
          "data": {
            "text/plain": [
              "<Figure size 640x480 with 1 Axes>"
            ],
            "image/png": "[encoded data removed]"
          },
          "metadata": {}
        },
        {
          "output_type": "display_data",
          "data": {
            "text/plain": [
              "<Figure size 640x480 with 1 Axes>"
            ],
            "image/png": "[encoded data removed]"
          },
          "metadata": {}
        }
      ]
    },
    {
      "cell_type": "markdown",
      "source": [
        "Regularization is a very useful method to handle collinearity, filter out noise from data, and eventually prevent overfitting. The concept behind regularization is to introduce additional information (bias) to penalize extreme parameter weights."
      ],
      "metadata": {
        "id": "8iSNLFrT4l02"
      }
    },
    {
      "cell_type": "code",
      "source": [
        "# 2* Ridge\n",
        "ridge = RidgeCV(alphas = [0.01, 0.03, 0.06, 0.1, 0.3, 0.6, 1, 3, 6, 10, 30, 60])\n",
        "ridge.fit(X_train, y_train)\n",
        "alpha = ridge.alpha_\n",
        "print(\"Best alpha :\", alpha)\n",
        "\n",
        "print(\"Try again for more precision with alphas centered around \" + str(alpha))\n",
        "ridge = RidgeCV(alphas = [alpha * .6, alpha * .65, alpha * .7, alpha * .75, alpha * .8, alpha * .85,\n",
        "                          alpha * .9, alpha * .95, alpha, alpha * 1.05, alpha * 1.1, alpha * 1.15,\n",
        "                          alpha * 1.25, alpha * 1.3, alpha * 1.35, alpha * 1.4],\n",
        "                cv = 10)\n",
        "ridge.fit(X_train, y_train)\n",
        "alpha = ridge.alpha_\n",
        "print(\"Best alpha :\", alpha)\n",
        "\n",
        "print(\"Ridge RMSE on Training set :\", rmse_train(ridge).mean())\n",
        "print(\"Ridge RMSE on Test set :\", rmse_test(ridge).mean())\n",
        "y_train_rdg = ridge.predict(X_train)\n",
        "y_test_rdg = ridge.predict(X_test)\n",
        "\n",
        "# Plot residuals\n",
        "plt.scatter(y_train_rdg, y_train_rdg - y_train, c = \"blue\", marker = \"s\", label = \"Training data\")\n",
        "plt.scatter(y_test_rdg, y_test_rdg - y_test, c = \"lightgreen\", marker = \"s\", label = \"Validation data\")\n",
        "plt.title(\"Linear regression with Ridge regularization\")\n",
        "plt.xlabel(\"Predicted values\")\n",
        "plt.ylabel(\"Residuals\")\n",
        "plt.legend(loc = \"upper left\")\n",
        "plt.hlines(y = 0, xmin = 10.5, xmax = 13.5, color = \"red\")\n",
        "plt.show()\n",
        "\n",
        "# Plot predictions\n",
        "plt.scatter(y_train_rdg, y_train, c = \"blue\", marker = \"s\", label = \"Training data\")\n",
        "plt.scatter(y_test_rdg, y_test, c = \"lightgreen\", marker = \"s\", label = \"Validation data\")\n",
        "plt.title(\"Linear regression with Ridge regularization\")\n",
        "plt.xlabel(\"Predicted values\")\n",
        "plt.ylabel(\"Real values\")\n",
        "plt.legend(loc = \"upper left\")\n",
        "plt.plot([10.5, 13.5], [10.5, 13.5], c = \"red\")\n",
        "plt.show()\n",
        "\n",
        "X_train = pd.DataFrame(X_train, columns=feature_names)\n",
        "\n",
        "# Now coefs will work with the DataFrame columns\n",
        "coefs = pd.Series(ridge.coef_, index=X_train.columns)\n",
        "print(\"Ridge picked \" + str(sum(coefs != 0)) + \" features and eliminated the other \" +  \\\n",
        "      str(sum(coefs == 0)) + \" features\")\n",
        "imp_coefs = pd.concat([coefs.sort_values().head(10),\n",
        "                     coefs.sort_values().tail(10)])\n",
        "imp_coefs.plot(kind = \"barh\")\n",
        "plt.title(\"Coefficients in the Ridge Model\")\n",
        "plt.show()"
      ],
      "metadata": {
        "colab": {
          "base_uri": "https://localhost:8080/",
          "height": 1000
        },
        "id": "pQur1Pjo4CHH",
        "outputId": "9cc5d1b2-aab7-40bf-d7ea-94611decdafc"
      },
      "execution_count": null,
      "outputs": [
        {
          "output_type": "stream",
          "name": "stdout",
          "text": [
            "Best alpha : 6.0\n",
            "Try again for more precision with alphas centered around 6.0\n",
            "Best alpha : 7.5\n",
            "Ridge RMSE on Training set : 28630.992223405592\n",
            "Ridge RMSE on Test set : 49300.77893427528\n"
          ]
        },
        {
          "output_type": "display_data",
          "data": {
            "text/plain": [
              "<Figure size 640x480 with 1 Axes>"
            ],
            "image/png": "[encoded data removed]"
          },
          "metadata": {}
        },
        {
          "output_type": "display_data",
          "data": {
            "text/plain": [
              "<Figure size 640x480 with 1 Axes>"
            ],
            "image/png": "[encoded data removed]"
          },
          "metadata": {}
        },
        {
          "output_type": "error",
          "ename": "NameError",
          "evalue": "name 'feature_names' is not defined",
          "traceback": [
            "\u001b[0;31m---------------------------------------------------------------------------\u001b[0m",
            "\u001b[0;31mNameError\u001b[0m                                 Traceback (most recent call last)",
            "\u001b[0;32m<ipython-input-290-bebcd46acfa3>\u001b[0m in \u001b[0;36m<cell line: 41>\u001b[0;34m()\u001b[0m\n\u001b[1;32m     39\u001b[0m \u001b[0mplt\u001b[0m\u001b[0;34m.\u001b[0m\u001b[0mshow\u001b[0m\u001b[0;34m(\u001b[0m\u001b[0;34m)\u001b[0m\u001b[0;34m\u001b[0m\u001b[0;34m\u001b[0m\u001b[0m\n\u001b[1;32m     40\u001b[0m \u001b[0;34m\u001b[0m\u001b[0m\n\u001b[0;32m---> 41\u001b[0;31m \u001b[0mX_train\u001b[0m \u001b[0;34m=\u001b[0m \u001b[0mpd\u001b[0m\u001b[0;34m.\u001b[0m\u001b[0mDataFrame\u001b[0m\u001b[0;34m(\u001b[0m\u001b[0mX_train\u001b[0m\u001b[0;34m,\u001b[0m \u001b[0mcolumns\u001b[0m\u001b[0;34m=\u001b[0m\u001b[0mfeature_names\u001b[0m\u001b[0;34m)\u001b[0m\u001b[0;34m\u001b[0m\u001b[0;34m\u001b[0m\u001b[0m\n\u001b[0m\u001b[1;32m     42\u001b[0m \u001b[0;34m\u001b[0m\u001b[0m\n\u001b[1;32m     43\u001b[0m \u001b[0;31m# Now coefs will work with the DataFrame columns\u001b[0m\u001b[0;34m\u001b[0m\u001b[0;34m\u001b[0m\u001b[0m\n",
            "\u001b[0;31mNameError\u001b[0m: name 'feature_names' is not defined"
          ]
        }
      ]
    },
    {
      "cell_type": "markdown",
      "source": [
        "LASSO stands for Least Absolute Shrinkage and Selection Operator. It is an alternative regularization method, where we simply replace the square of the weights by the sum of the absolute value of the weights. In contrast to L2 regularization, L1 regularization yields sparse feature vectors : most feature weights will be zero. Sparsity can be useful in practice if we have a high dimensional dataset with many features that are irrelevant."
      ],
      "metadata": {
        "id": "MNIkoUeT5Q6p"
      }
    },
    {
      "cell_type": "code",
      "source": [
        "lasso = LassoCV(alphas = [0.0001, 0.0003, 0.0006, 0.001, 0.003, 0.006, 0.01, 0.03, 0.06, 0.1,\n",
        "                          0.3, 0.6, 1],\n",
        "                max_iter = 50000, cv = 10)\n",
        "lasso.fit(X_train, y_train)\n",
        "alpha = lasso.alpha_\n",
        "print(\"Best alpha :\", alpha)\n",
        "\n",
        "print(\"Try again for more precision with alphas centered around \" + str(alpha))\n",
        "lasso = LassoCV(alphas = [alpha * .6, alpha * .65, alpha * .7, alpha * .75, alpha * .8,\n",
        "                          alpha * .85, alpha * .9, alpha * .95, alpha, alpha * 1.05,\n",
        "                          alpha * 1.1, alpha * 1.15, alpha * 1.25, alpha * 1.3, alpha * 1.35,\n",
        "                          alpha * 1.4],\n",
        "                max_iter = 50000, cv = 10)\n",
        "lasso.fit(X_train, y_train)\n",
        "alpha = lasso.alpha_\n",
        "print(\"Best alpha :\", alpha)\n",
        "\n",
        "print(\"Lasso RMSE on Training set :\", rmse_train(lasso).mean())\n",
        "print(\"Lasso RMSE on Test set :\", rmse_test(lasso).mean())\n",
        "y_train_las = lasso.predict(X_train)\n",
        "y_test_las = lasso.predict(X_test)\n",
        "\n",
        "# Plot residuals\n",
        "plt.scatter(y_train_las, y_train_las - y_train, c = \"blue\", marker = \"s\", label = \"Training data\")\n",
        "plt.scatter(y_test_las, y_test_las - y_test, c = \"lightgreen\", marker = \"s\", label = \"Validation data\")\n",
        "plt.title(\"Linear regression with Lasso regularization\")\n",
        "plt.xlabel(\"Predicted values\")\n",
        "plt.ylabel(\"Residuals\")\n",
        "plt.legend(loc = \"upper left\")\n",
        "plt.hlines(y = 0, xmin = 10.5, xmax = 13.5, color = \"red\")\n",
        "plt.show()\n",
        "\n",
        "# Plot predictions\n",
        "plt.scatter(y_train_las, y_train, c = \"blue\", marker = \"s\", label = \"Training data\")\n",
        "plt.scatter(y_test_las, y_test, c = \"lightgreen\", marker = \"s\", label = \"Validation data\")\n",
        "plt.title(\"Linear regression with Lasso regularization\")\n",
        "plt.xlabel(\"Predicted values\")\n",
        "plt.ylabel(\"Real values\")\n",
        "plt.legend(loc = \"upper left\")\n",
        "plt.plot([10.5, 13.5], [10.5, 13.5], c = \"red\")\n",
        "plt.show()\n",
        "\n",
        "# Plot important coefficients\n",
        "coefs = pd.Series(lasso.coef_, index = X_train.columns)\n",
        "print(\"Lasso picked \" + str(sum(coefs != 0)) + \" features and eliminated the other \" +  \\\n",
        "      str(sum(coefs == 0)) + \" features\")\n",
        "imp_coefs = pd.concat([coefs.sort_values().head(10),\n",
        "                     coefs.sort_values().tail(10)])\n",
        "imp_coefs.plot(kind = \"barh\")\n",
        "plt.title(\"Coefficients in the Lasso Model\")\n",
        "plt.show()"
      ],
      "metadata": {
        "colab": {
          "base_uri": "https://localhost:8080/",
          "height": 1000
        },
        "id": "looilxhx4rv3",
        "outputId": "c2adfd6b-edbf-4c9d-a0de-a95fbce8787a"
      },
      "execution_count": null,
      "outputs": [
        {
          "output_type": "stream",
          "name": "stdout",
          "text": [
            "Best alpha : 0.0001\n",
            "Try again for more precision with alphas centered around 0.0001\n",
            "Best alpha : 6.500000000000001e-05\n",
            "Lasso RMSE on Training set : 29454.74784098135\n",
            "Lasso RMSE on Test set : 39744.430001750276\n"
          ]
        },
        {
          "output_type": "display_data",
          "data": {
            "text/plain": [
              "<Figure size 640x480 with 1 Axes>"
            ],
            "image/png": "[encoded data removed]"
          },
          "metadata": {}
        },
        {
          "output_type": "display_data",
          "data": {
            "text/plain": [
              "<Figure size 640x480 with 1 Axes>"
            ],
            "image/png": "[encoded data removed]"
          },
          "metadata": {}
        },
        {
          "output_type": "error",
          "ename": "AttributeError",
          "evalue": "'numpy.ndarray' object has no attribute 'columns'",
          "traceback": [
            "\u001b[0;31m---------------------------------------------------------------------------\u001b[0m",
            "\u001b[0;31mAttributeError\u001b[0m                            Traceback (most recent call last)",
            "\u001b[0;32m<ipython-input-291-b1f4632bbab9>\u001b[0m in \u001b[0;36m<cell line: 44>\u001b[0;34m()\u001b[0m\n\u001b[1;32m     42\u001b[0m \u001b[0;34m\u001b[0m\u001b[0m\n\u001b[1;32m     43\u001b[0m \u001b[0;31m# Plot important coefficients\u001b[0m\u001b[0;34m\u001b[0m\u001b[0;34m\u001b[0m\u001b[0m\n\u001b[0;32m---> 44\u001b[0;31m \u001b[0mcoefs\u001b[0m \u001b[0;34m=\u001b[0m \u001b[0mpd\u001b[0m\u001b[0;34m.\u001b[0m\u001b[0mSeries\u001b[0m\u001b[0;34m(\u001b[0m\u001b[0mlasso\u001b[0m\u001b[0;34m.\u001b[0m\u001b[0mcoef_\u001b[0m\u001b[0;34m,\u001b[0m \u001b[0mindex\u001b[0m \u001b[0;34m=\u001b[0m \u001b[0mX_train\u001b[0m\u001b[0;34m.\u001b[0m\u001b[0mcolumns\u001b[0m\u001b[0;34m)\u001b[0m\u001b[0;34m\u001b[0m\u001b[0;34m\u001b[0m\u001b[0m\n\u001b[0m\u001b[1;32m     45\u001b[0m print(\"Lasso picked \" + str(sum(coefs != 0)) + \" features and eliminated the other \" +  \\\n\u001b[1;32m     46\u001b[0m       str(sum(coefs == 0)) + \" features\")\n",
            "\u001b[0;31mAttributeError\u001b[0m: 'numpy.ndarray' object has no attribute 'columns'"
          ]
        }
      ]
    },
    {
      "cell_type": "code",
      "source": [],
      "metadata": {
        "id": "A-kfvYoe5csW"
      },
      "execution_count": null,
      "outputs": []
    }
  ]
}